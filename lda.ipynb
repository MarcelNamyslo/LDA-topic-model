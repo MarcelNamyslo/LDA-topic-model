{
  "nbformat": 4,
  "nbformat_minor": 0,
  "metadata": {
    "colab": {
      "provenance": [],
      "toc_visible": true,
      "gpuType": "T4"
    },
    "kernelspec": {
      "name": "python3",
      "display_name": "Python 3"
    },
    "language_info": {
      "name": "python"
    },
    "accelerator": "TPU"
  },
  "cells": [
    {
      "cell_type": "markdown",
      "source": [
        "# LDA"
      ],
      "metadata": {
        "id": "B6vPMT2A0EbB"
      }
    },
    {
      "cell_type": "markdown",
      "source": [
        "## Preprocessing"
      ],
      "metadata": {
        "id": "g-3wRwcWKWUA"
      }
    },
    {
      "cell_type": "code",
      "execution_count": null,
      "metadata": {
        "id": "uXQk-gC6X1gX"
      },
      "outputs": [],
      "source": [
        "import numpy as np\n",
        "from sklearn.feature_extraction.text import CountVectorizer\n",
        "from sklearn.decomposition import LatentDirichletAllocation\n",
        "import nltk\n",
        "from nltk.corpus import stopwords\n",
        "from nltk.tokenize import RegexpTokenizer\n",
        "import matplotlib.pyplot as plt"
      ]
    },
    {
      "cell_type": "markdown",
      "source": [
        "### Download Data\n"
      ],
      "metadata": {
        "id": "7_qFxVGX0UvB"
      }
    },
    {
      "cell_type": "code",
      "source": [
        "from sklearn.datasets import fetch_20newsgroups\n",
        "\n",
        "#categories = ['alt.atheism', 'talk.religion.misc', 'comp.graphics', 'sci.space' , ]  # Choose desired categories\n",
        "data = fetch_20newsgroups(subset='train',  shuffle=True, random_state=42, remove=('footers', 'quotes'))\n",
        "print(\"Number of documents:\", len(data.data))"
      ],
      "metadata": {
        "colab": {
          "base_uri": "https://localhost:8080/"
        },
        "id": "pCpE3gnTZLhN",
        "outputId": "25ced45d-2d55-4a4d-a901-0c73fb30fc40"
      },
      "execution_count": null,
      "outputs": [
        {
          "output_type": "stream",
          "name": "stdout",
          "text": [
            "Number of documents: 11314\n"
          ]
        }
      ]
    },
    {
      "cell_type": "code",
      "source": [
        "# Get the text data and target labels\n",
        "documents = data.data\n",
        "labels = data.target\n",
        "\n",
        "# Print a few sample documents\n",
        "num_samples = 5  # Number of sample documents to print\n",
        "\n",
        "def printSampleDocuments(docs):\n",
        "    for i in range(min(num_samples, len(docs))):\n",
        "        print(f\"Document {i+1}:\")\n",
        "        print(f\"Category: {data.target_names[labels[i]]}\")\n",
        "        print(docs[i])\n",
        "        print(\"---------------------------------------------------\\n\")\n",
        "\n",
        "printSampleDocuments(documents)"
      ],
      "metadata": {
        "id": "I69c66eWa16y",
        "colab": {
          "base_uri": "https://localhost:8080/"
        },
        "outputId": "b9724d7b-443e-4407-d2b5-d42f98ecfa8d"
      },
      "execution_count": null,
      "outputs": [
        {
          "output_type": "stream",
          "name": "stdout",
          "text": [
            "Document 1:\n",
            "Category: rec.autos\n",
            "From: lerxst@wam.umd.edu (where's my thing)\n",
            "Subject: WHAT car is this!?\n",
            "Nntp-Posting-Host: rac3.wam.umd.edu\n",
            "Organization: University of Maryland, College Park\n",
            "Lines: 15\n",
            "\n",
            " I was wondering if anyone out there could enlighten me on this car I saw\n",
            "the other day. It was a 2-door sports car, looked to be from the late 60s/\n",
            "early 70s. It was called a Bricklin. The doors were really small. In addition,\n",
            "the front bumper was separate from the rest of the body. This is \n",
            "all I know. If anyone can tellme a model name, engine specs, years\n",
            "of production, where this car is made, history, or whatever info you\n",
            "have on this funky looking car, please e-mail.\n",
            "---------------------------------------------------\n",
            "\n",
            "Document 2:\n",
            "Category: comp.sys.mac.hardware\n",
            "From: guykuo@carson.u.washington.edu (Guy Kuo)\n",
            "Subject: SI Clock Poll - Final Call\n",
            "Summary: Final call for SI clock reports\n",
            "Keywords: SI,acceleration,clock,upgrade\n",
            "Article-I.D.: shelley.1qvfo9INNc3s\n",
            "Organization: University of Washington\n",
            "Lines: 11\n",
            "NNTP-Posting-Host: carson.u.washington.edu\n",
            "\n",
            "A fair number of brave souls who upgraded their SI clock oscillator have\n",
            "shared their experiences for this poll. Please send a brief message detailing\n",
            "your experiences with the procedure. Top speed attained, CPU rated speed,\n",
            "add on cards and adapters, heat sinks, hour of usage per day, floppy disk\n",
            "functionality with 800 and 1.4 m floppies are especially requested.\n",
            "\n",
            "I will be summarizing in the next two days, so please add to the network\n",
            "knowledge base if you have done the clock upgrade and haven't answered this\n",
            "poll. Thanks.\n",
            "---------------------------------------------------\n",
            "\n",
            "Document 3:\n",
            "Category: comp.sys.mac.hardware\n",
            "From: twillis@ec.ecn.purdue.edu (Thomas E Willis)\n",
            "Subject: PB questions...\n",
            "Organization: Purdue University Engineering Computer Network\n",
            "Distribution: usa\n",
            "Lines: 36\n",
            "\n",
            "well folks, my mac plus finally gave up the ghost this weekend after\n",
            "starting life as a 512k way back in 1985.  sooo, i'm in the market for a\n",
            "new machine a bit sooner than i intended to be...\n",
            "\n",
            "i'm looking into picking up a powerbook 160 or maybe 180 and have a bunch\n",
            "of questions that (hopefully) somebody can answer:\n",
            "\n",
            "* does anybody know any dirt on when the next round of powerbook\n",
            "introductions are expected?  i'd heard the 185c was supposed to make an\n",
            "appearence \"this summer\" but haven't heard anymore on it - and since i\n",
            "don't have access to macleak, i was wondering if anybody out there had\n",
            "more info...\n",
            "\n",
            "* has anybody heard rumors about price drops to the powerbook line like the\n",
            "ones the duo's just went through recently?\n",
            "\n",
            "* what's the impression of the display on the 180?  i could probably swing\n",
            "a 180 if i got the 80Mb disk rather than the 120, but i don't really have\n",
            "a feel for how much \"better\" the display is (yea, it looks great in the\n",
            "store, but is that all \"wow\" or is it really that good?).  could i solicit\n",
            "some opinions of people who use the 160 and 180 day-to-day on if its worth\n",
            "taking the disk size and money hit to get the active display?  (i realize\n",
            "this is a real subjective question, but i've only played around with the\n",
            "machines in a computer store breifly and figured the opinions of somebody\n",
            "who actually uses the machine daily might prove helpful).\n",
            "\n",
            "* how well does hellcats perform?  ;)\n",
            "\n",
            "thanks a bunch in advance for any info - if you could email, i'll post a\n",
            "summary (news reading time is at a premium with finals just around the\n",
            "corner... :( )\n",
            "--\n",
            "Tom Willis  \\  twillis@ecn.purdue.edu    \\    Purdue Electrical Engineering\n",
            "---------------------------------------------------\n",
            "\n",
            "Document 4:\n",
            "Category: comp.graphics\n",
            "From: jgreen@amber (Joe Green)\n",
            "Subject: Re: Weitek P9000 ?\n",
            "Organization: Harris Computer Systems Division\n",
            "Lines: 14\n",
            "Distribution: world\n",
            "NNTP-Posting-Host: amber.ssd.csd.harris.com\n",
            "X-Newsreader: TIN [version 1.1 PL9]\n",
            "\n",
            "\n",
            "Do you have Weitek's address/phone number?  I'd like to get some information\n",
            "about this chip.\n",
            "\n",
            "---------------------------------------------------\n",
            "\n",
            "Document 5:\n",
            "Category: sci.space\n",
            "From: jcm@head-cfa.harvard.edu (Jonathan McDowell)\n",
            "Subject: Re: Shuttle Launch Question\n",
            "Organization: Smithsonian Astrophysical Observatory, Cambridge, MA,  USA\n",
            "Distribution: sci\n",
            "Lines: 23\n",
            "\n",
            "From article <C5owCB.n3p@world.std.com>, by tombaker@world.std.com (Tom A Baker):\n",
            "\n",
            "\n",
            "My understanding is that the 'expected errors' are basically\n",
            "known bugs in the warning system software - things are checked\n",
            "that don't have the right values in yet because they aren't\n",
            "set till after launch, and suchlike. Rather than fix the code\n",
            "and possibly introduce new bugs, they just tell the crew\n",
            "'ok, if you see a warning no. 213 before liftoff, ignore it'.\n",
            "---------------------------------------------------\n",
            "\n"
          ]
        }
      ]
    },
    {
      "cell_type": "markdown",
      "source": [
        "### Metadata Extraction - cleaned_documents\n",
        "\n"
      ],
      "metadata": {
        "id": "lHyEikhw0b7d"
      }
    },
    {
      "cell_type": "code",
      "source": [
        "# Split document by double newlines, drop the first block, and combine again as a string\n",
        "import re\n",
        "cleaned_documents = []\n",
        "subjects = []\n",
        "keywords = []\n",
        "organizations = []\n",
        "i = 1\n",
        "for document in documents:\n",
        "    blocks = re.split(r'\\n\\s*\\n', document)\n",
        "    if(i<100):\n",
        "        print(blocks[0])\n",
        "        i += 1\n",
        "    subjects.append(re.findall('Subject: (.*)\\n', blocks[0]) + re.findall('Summary: (.*)\\n', blocks[0]))\n",
        "    keywords.append(re.findall('Keywords: (.*)\\n', blocks[0]))\n",
        "    organizations.append(re.findall('Organization: (.*)\\n', blocks[0]))\n",
        "    cleaned_document = '\\n'.join(blocks[1:])  # Drop the first block\n",
        "    cleaned_documents.append(cleaned_document)\n",
        "\n",
        "# Print a few sample cleaned document bodies\n",
        "num_samples = 5  # Number of sample documents to print\n",
        "\n",
        "print(subjects[:num_samples])\n",
        "print(keywords[:num_samples])\n",
        "print(organizations[:num_samples])\n",
        "'''\n",
        "for i in range(num_samples):\n",
        "    print(f\"Document {i+1}:\")\n",
        "    print(f\"Category: {data.target_names[labels[i]]}\")\n",
        "\n",
        "    cleaned_document = cleaned_documents[i]\n",
        "    print(cleaned_document.strip())  # Print the cleaned document body\n",
        "    print(\"---------------------------------------------------\\n\")\n",
        "'''\n",
        "printSampleDocuments(cleaned_documents)"
      ],
      "metadata": {
        "id": "WrQYI54Rbpdt",
        "colab": {
          "base_uri": "https://localhost:8080/"
        },
        "outputId": "7d514801-c265-4a93-adde-9b27b1c16934"
      },
      "execution_count": null,
      "outputs": [
        {
          "output_type": "stream",
          "name": "stdout",
          "text": [
            "From: lerxst@wam.umd.edu (where's my thing)\n",
            "Subject: WHAT car is this!?\n",
            "Nntp-Posting-Host: rac3.wam.umd.edu\n",
            "Organization: University of Maryland, College Park\n",
            "Lines: 15\n",
            "From: guykuo@carson.u.washington.edu (Guy Kuo)\n",
            "Subject: SI Clock Poll - Final Call\n",
            "Summary: Final call for SI clock reports\n",
            "Keywords: SI,acceleration,clock,upgrade\n",
            "Article-I.D.: shelley.1qvfo9INNc3s\n",
            "Organization: University of Washington\n",
            "Lines: 11\n",
            "NNTP-Posting-Host: carson.u.washington.edu\n",
            "From: twillis@ec.ecn.purdue.edu (Thomas E Willis)\n",
            "Subject: PB questions...\n",
            "Organization: Purdue University Engineering Computer Network\n",
            "Distribution: usa\n",
            "Lines: 36\n",
            "From: jgreen@amber (Joe Green)\n",
            "Subject: Re: Weitek P9000 ?\n",
            "Organization: Harris Computer Systems Division\n",
            "Lines: 14\n",
            "Distribution: world\n",
            "NNTP-Posting-Host: amber.ssd.csd.harris.com\n",
            "X-Newsreader: TIN [version 1.1 PL9]\n",
            "From: jcm@head-cfa.harvard.edu (Jonathan McDowell)\n",
            "Subject: Re: Shuttle Launch Question\n",
            "Organization: Smithsonian Astrophysical Observatory, Cambridge, MA,  USA\n",
            "Distribution: sci\n",
            "Lines: 23\n",
            "From: dfo@vttoulu.tko.vtt.fi (Foxvog Douglas)\n",
            "Subject: Re: Rewording the Second Amendment (ideas)\n",
            "Organization: VTT\n",
            "Lines: 58\n",
            "From: bmdelane@quads.uchicago.edu (brian manning delaney)\n",
            "Subject: Brain Tumor Treatment (thanks)\n",
            "Reply-To: bmdelane@midway.uchicago.edu\n",
            "Organization: University of Chicago\n",
            "Lines: 12\n",
            "From: bgrubb@dante.nmsu.edu (GRUBB)\n",
            "Subject: Re: IDE vs SCSI\n",
            "Organization: New Mexico State University, Las Cruces, NM\n",
            "Lines: 44\n",
            "Distribution: world\n",
            "NNTP-Posting-Host: dante.nmsu.edu\n",
            "From: holmes7000@iscsvax.uni.edu\n",
            "Subject: WIn 3.0 ICON HELP PLEASE!\n",
            "Organization: University of Northern Iowa\n",
            "Lines: 10\n",
            "From: kerr@ux1.cso.uiuc.edu (Stan Kerr)\n",
            "Subject: Re: Sigma Designs Double up??\n",
            "Article-I.D.: ux1.C52u8x.B62\n",
            "Organization: University of Illinois at Urbana\n",
            "Lines: 29\n",
            "From: irwin@cmptrc.lonestar.org (Irwin Arnstein)\n",
            "Subject: Re: Recommendation on Duc\n",
            "Summary: What's it worth?\n",
            "Distribution: usa\n",
            "Expires: Sat, 1 May 1993 05:00:00 GMT\n",
            "Organization: CompuTrac Inc., Richardson TX\n",
            "Keywords: Ducati, GTS, How much? \n",
            "Lines: 13\n",
            "From: david@terminus.ericsson.se (David Bold)\n",
            "Subject: Re: Question for those with popular morality\n",
            "Reply-To: david@terminus.ericsson.se\n",
            "Distribution: world\n",
            "Organization: Camtec Electronics (Ericsson), Leicester, England\n",
            "Lines: 77\n",
            "Nntp-Posting-Host: bangkok\n",
            "From: rodc@fc.hp.com (Rod Cerkoney)\n",
            "Subject: *$G4qxF,fekVH6\n",
            "Nntp-Posting-Host: hpfcmrc.fc.hp.com\n",
            "Organization: Hewlett Packard, Fort Collins, CO\n",
            "X-Newsreader: TIN [version 1.1 PL8.5]\n",
            "Lines: 15\n",
            "From: dbm0000@tm0006.lerc.nasa.gov (David B. Mckissock)\n",
            "Subject: Re: Space Station Redesign, JSC Alternative #4\n",
            "Organization: NASA Lewis Research Center / Cleveland, Ohio\n",
            "Lines: 102\n",
            "Distribution: world\n",
            "NNTP-Posting-Host: tm0006.lerc.nasa.gov\n",
            "News-Software: VAX/VMS VNEWS 1.41    \n",
            "From: jllee@acsu.buffalo.edu (Johnny L Lee)\n",
            "Subject: RE:  == MOVING SALE ===\n",
            "Summary: RE:  === MOVING SALE ===\n",
            "Organization: UB\n",
            "Lines: 44\n",
            "Nntp-Posting-Host: lictor.acsu.buffalo.edu\n",
            "From: mathew <mathew@mantis.co.uk>\n",
            "Subject: Re: <Political Atheists?\n",
            "Organization: Mantis Consultants, Cambridge. UK.\n",
            "X-Newsreader: rusnews v1.01\n",
            "Lines: 22\n",
            "From: ab@nova.cc.purdue.edu (Allen B)\n",
            "Subject: Re: TIFF: philosophical significance of 42\n",
            "Organization: Purdue University\n",
            "Lines: 39\n",
            "From: CPKJP@vm.cc.latech.edu (Kevin Parker)\n",
            "Subject: Insurance Rates on Performance Cars SUMMARY\n",
            "Organization: Louisiana Tech University\n",
            "Lines: 244\n",
            "NNTP-Posting-Host: vm.cc.latech.edu\n",
            "X-Newsreader: NNR/VM S_1.3.2\n",
            "From: ritley@uimrl7.mrl.uiuc.edu ()\n",
            "Subject: SEEKING THERMOCOUPLE AMPLIFIER CIRCUIT\n",
            "Reply-To: ritley@uiucmrl.bitnet ()\n",
            "Organization: Materials Research Lab\n",
            "Lines: 17\n",
            "From: abarden@tybse1.uucp (Ann Marie Barden)\n",
            "Subject: X-Terminal Config. file question\n",
            "Organization: Tybrin Corporation, Shalimar, FL\n",
            "Distribution: usa\n",
            "Lines: 19\n",
            "From: keith@cco.caltech.edu (Keith Allan Schneider)\n",
            "Subject: Re: <<Pompous ass\n",
            "Organization: California Institute of Technology, Pasadena\n",
            "Lines: 16\n",
            "NNTP-Posting-Host: punisher.caltech.edu\n",
            "From: leunggm@odin.control.utoronto.ca (Gary Leung)\n",
            "Subject: Re: NHL Team Captains\n",
            "Organization: University of Toronto, Systems Control Group\n",
            "Lines: 20\n",
            "From: rpwhite@cs.nps.navy.mil (rpwhite)\n",
            "Subject: Re: Catalog of Hard-to-Find PC Enhancements (Repost)\n",
            "Organization: Naval Postgraduate School, Monterey\n",
            "Distribution: usa\n",
            "Lines: 35\n",
            "From: csyphers@uafhp..uark.edu (Chris Syphers)\n",
            "Subject: Re: ?? DOS font size in windows??\n",
            "Organization: Kansas State University\n",
            "Lines: 20\n",
            "NNTP-Posting-Host: uafhp.uark.edu\n",
            "From: nodine@lcs.mit.edu (Mark H. Nodine)\n",
            "Subject: Re: Quadra SCSI Problems???\n",
            "Keywords: Quadra SCSI APS\n",
            "Organization: MIT Laboratory for Computer Science\n",
            "Lines: 9\n",
            "From: kph2q@onyx.cs.Virginia.EDU (Kenneth Hinckley)\n",
            "Subject:   VOICE INPUT -- vendor information needed\n",
            "Reply-To: kph2q@onyx.cs.Virginia.EDU (Kenneth Hinckley)\n",
            "Organization: University of Virginia\n",
            "Lines: 27\n",
            "From: nagle@netcom.com (John Nagle)\n",
            "Subject: Re: What do Nuclear Site's Cooling Towers do?\n",
            "Organization: NETCOM On-line Communication Services (408 241-9760 guest)\n",
            "Lines: 42\n",
            "From: r4938585@joplin.biosci.arizona.edu (Doug Roberts)\n",
            "Subject: Re: NL vs. AL?\n",
            "Organization: University of Arizona, Biotechnology, Tucson\n",
            "Lines: 2\n",
            "NNTP-Posting-Host: joplin.biosci.arizona.edu\n",
            "Keywords: Game length\n",
            "From: jonh@david.wheaton.edu (Jonathan Hayward)\n",
            "Subject: Re: Pantheism & Environmentalism\n",
            "Organization: Wheaton College, IL\n",
            "Lines: 46\n",
            "From: jimf@centerline.com (Jim Frost)\n",
            "Subject: Re: Is car saftey important?\n",
            "Organization: CenterLine Software, Inc.\n",
            "Lines: 14\n",
            "NNTP-Posting-Host: 140.239.3.202\n",
            "From: mrh@iastate.edu (Michael R Hartman)\n",
            "Subject: Re: Car Stereo Stolen?\n",
            "Organization: Iowa State University, Ames, IA\n",
            "Lines: 36\n",
            "Subject: Teenage acne\n",
            "From: pchurch@swell.actrix.gen.nz (Pat Churchill)\n",
            "Organization: Actrix Networks\n",
            "Lines: 26\n",
            "From: xandor@unixg.ubc.ca (John Gilbert )\n",
            "Subject: Re: Exploding TV!\n",
            "Organization: The University of British Columbia\n",
            "Lines: 4\n",
            "Distribution: usa\n",
            "NNTP-Posting-Host: unixg.ubc.ca\n",
            "From: ayr1@cunixa.cc.columbia.edu (Amir Y Rosenblatt)\n",
            "Subject: Re: Israeli Expansion-lust\n",
            "Nntp-Posting-Host: cunixa.cc.columbia.edu\n",
            "Reply-To: ayr1@cunixa.cc.columbia.edu (Amir Y Rosenblatt)\n",
            "Organization: Columbia University\n",
            "Lines: 57\n",
            "From: joec@hilbert.cyprs.rain.com ( Joe Cipale)\n",
            "Subject: Re: Clayton Need not Retract\n",
            "Organization: Cypress Semi, Beaverton OR\n",
            "Lines: 13\n",
            "From: dchhabra@stpl.ists.ca (Deepak Chhabra)\n",
            "Subject: Re: Goalie masks\n",
            "Nntp-Posting-Host: stpl.ists.ca\n",
            "Organization: Solar Terresterial Physics Laboratory, ISTS\n",
            "Lines: 21\n",
            "From: static@iat.holonet.net (Joe Ehrlich)\n",
            "Subject: Re: BMW MOA members read this!\n",
            "Organization: HoloNet National Internet Access System: 510-704-1058/modem\n",
            "Lines: 19\n",
            "From: ebrandt@jarthur.claremont.edu (Eli Brandt)\n",
            "Subject: Re: Do we need the clipper for cheap security?\n",
            "Organization: Harvey Mudd College, Claremont, CA 91711\n",
            "Lines: 56\n",
            "From: behanna@syl.nj.nec.com (Chris BeHanna)\n",
            "Subject: Re: Should liability insurance be required?\n",
            "Organization: NEC Systems Laboratory, Inc.\n",
            "Distribution: usa\n",
            "Lines: 32\n",
            "From: bressler@iftccu.ca.boeing.com (Rick Bressler)\n",
            "Subject: Re: Gun Lovers (was Re: My Gun is like my American Express Card)\n",
            "Organization: Boeing Commercial Airplane Group\n",
            "Lines: 104\n",
            "From:  (Sean Garrison)\n",
            "Subject: Re: Bonilla\n",
            "Nntp-Posting-Host: berkeley-kstar-node.net.yale.edu\n",
            "Organization: Yale Univeristy\n",
            "Lines: 37\n",
            "From: root@ncube.com (Operator)\n",
            "Subject: Re: Which fax modem is the best?\n",
            "Nntp-Posting-Host: admin\n",
            "Reply-To: root@ncube.com\n",
            "Organization: nCUBE Corp., Foster City, CA\n",
            "Lines: 19\n",
            "From: ab245@cleveland.Freenet.Edu (Sam Latonia)\n",
            "Subject: Re: Need phone number for Western Digital (ESDI problem)\n",
            "Organization: Case Western Reserve University, Cleveland, Ohio (USA)\n",
            "Lines: 5\n",
            "NNTP-Posting-Host: slc10.ins.cwru.edu\n",
            "From: paul@csd4.csd.uwm.edu (Paul R Krueger)\n",
            "Subject: Brewer bullpen rocked again...\n",
            "Organization: Computing Services Division, University of Wisconsin - Milwaukee\n",
            "Lines: 30\n",
            "Distribution: world\n",
            "NNTP-Posting-Host: 129.89.7.4\n",
            "Originator: paul@csd4.csd.uwm.edu\n",
            "From: cmeyer@bloch.Stanford.EDU (Craig Meyer)\n",
            "Subject: Re: Jack Morris\n",
            "Organization: DSO, Stanford University\n",
            "X-Newsreader: TIN [version 1.1 PL9]\n",
            "Lines: 27\n",
            "From: Robert Everett Brunskill <rb6t+@andrew.cmu.edu>\n",
            "Subject: Re: $$$ to fix TRACKBALL\n",
            "Organization: Freshman, Electrical and Computer Engineering, Carnegie Mellon, Pittsburgh, PA\n",
            "Lines: 7\n",
            "NNTP-Posting-Host: po4.andrew.cmu.edu\n",
            "In-Reply-To: <93105.152944BR4416A@auvm.american.edu>\n",
            "From: vng@iscs.nus.sg\n",
            "Subject: Wyse 60 Terminal Emulator\n",
            "Reply-To: VNG@ISCS.NUS.SG\n",
            "Organization: Dept of Info Sys and Comp Sci, National University of Singapore, SINGAPORE\n",
            "Lines: 6\n",
            "From: speedy@engr.latech.edu (Speedy Mercer)\n",
            "Subject: Re: Looking for MOVIES w/ BIKES\n",
            "Organization: Louisiana Tech University\n",
            "Lines: 25\n",
            "NNTP-Posting-Host: bhm116e-spc.engr.latech.edu\n",
            "Summary: Bike movies\n",
            "Keywords: movies\n",
            "From: tg@cs.toronto.edu (Tom Glinos)\n",
            "Subject: 12V to 3V and 48V at 3A\n",
            "Organization: Department of Computer Science, University of Toronto\n",
            "Distribution: na\n",
            "Lines: 11\n",
            "From: 18084TM@msu.edu (Tom)\n",
            "Subject: Golden & Space ages\n",
            "X-Added: Forwarded by Space Digest\n",
            "Organization: [via International Space University]\n",
            "Original-Sender: isu@VACATION.VENARI.CS.CMU.EDU\n",
            "Distribution: sci\n",
            "Lines: 17\n",
            "From: johnc@crsa.bu.edu (John Collins)\n",
            "Subject: Problem with MIT-SHM\n",
            "Organization: Boston University\n",
            "Lines: 27\n",
            "From: dlecoint@garnet.acns.fsu.edu (Darius_Lecointe)\n",
            "Subject: Re: Sabbath Admissions 5of5\n",
            "Organization: Florida State University\n",
            "Lines: 27\n",
            "From: yuting@Xenon.Stanford.EDU (Eugene Y. Kuo)\n",
            "Subject: Any updated Canon BJ-200 driver?\n",
            "Organization: Computer Science Department, Stanford University.\n",
            "Lines: 8\n",
            "From: km@cs.pitt.edu (Ken Mitchum)\n",
            "Subject: Re: Patient-Physician Diplomacy\n",
            "Article-I.D.: pitt.19422\n",
            "Reply-To: km@cs.pitt.edu (Ken Mitchum)\n",
            "Organization: Univ. of Pittsburgh Computer Science\n",
            "Lines: 22\n",
            "From: sera@zuma.UUCP (Serdar Argic)\n",
            "Subject: Day and night Armenians were rounding up male inhabitants...\n",
            "Article-I.D.: zuma.9304052020\n",
            "Reply-To: sera@zuma.UUCP (Serdar Argic)\n",
            "Distribution: world\n",
            "Lines: 71\n",
            "From: cme@ellisun.sw.stratus.com (Carl Ellison)\n",
            "Subject: Re: Clipper Crypto\n",
            "Organization: Stratus Computer, Software Engineering\n",
            "Lines: 26\n",
            "Distribution: inet\n",
            "NNTP-Posting-Host: ellisun.sw.stratus.com\n",
            "Keywords: crypto, EFF\n",
            "From: eliot@lanmola.engr.washington.edu (eliot)\n",
            "Subject: Re: Improvements in Automatic Transmissions\n",
            "Keywords: Saturn, Subaru, manual, automatic\n",
            "Article-I.D.: engr.Apr19.045221.19525\n",
            "Organization: clearer than blir\n",
            "Lines: 40\n",
            "NNTP-Posting-Host: lanmola.engr.washington.edu\n",
            "From: d_jaracz@oz.plymouth.edu (David R. Jaracz)\n",
            "Subject: Re: Octopus in Detroit?\n",
            "Organization: Plymouth State College - Plymouth, NH.\n",
            "Lines: 16\n",
            "From: sp@odin.fna.no (Svein Pedersen)\n",
            "Subject: Re: Utility for updating Win.ini and system.ini\n",
            "Organization: University of Tromsoe, Norway\n",
            "Lines: 11\n",
            "From: leech@cs.unc.edu (Jon Leech)\n",
            "Subject: Space FAQ 11/15 - Upcoming Planetary Probes\n",
            "Supersedes: <new_probes_730956574@cs.unc.edu>\n",
            "Organization: University of North Carolina, Chapel Hill\n",
            "Lines: 243\n",
            "Distribution: world\n",
            "Expires: 6 May 1993 20:00:01 GMT\n",
            "NNTP-Posting-Host: mahler.cs.unc.edu\n",
            "Keywords: Frequently Asked Questions\n",
            "From: blakey@ug.cs.dal.ca (Jason Blakey)\n",
            "Subject: FTP sites anyone?\n",
            "Nntp-Posting-Host: ug.cs.dal.ca\n",
            "Organization: Math, Stats & CS, Dalhousie University, Halifax, NS, Canada\n",
            "Lines: 7\n",
            "From: bill@west.msi.com (Bill Poitras)\n",
            "Subject: Re: Automated X testing\n",
            "Reply-To: bill@msi.com\n",
            "Organization: Molecular Simulations Inc.\n",
            "X-Newsreader: TIN [version 1.1 PL8]\n",
            "Lines: 27\n",
            "From: billd@informix.com (William Daul)\n",
            "Subject: Toshiba 3401 E and P CD-ROM\n",
            "Summary: need info on what difference is and where to find 3401P or E\n",
            "Keywords: toshiba, cd, cd-rom, cd rom\n",
            "Organization: Informix Software, Inc.\n",
            "Lines: 10\n",
            "From: AGRGB@ASUACAD.BITNET\n",
            "Subject: Re: CDs priced for immediate sale\n",
            "Article-I.D.: ASUACAD.93096.004253AGRGB\n",
            "Organization: Arizona State University\n",
            "Lines: 10\n",
            "From: sjp@hpuerca.atl.hp.com (Steve Phillips)\n",
            "Subject: Re: Ford and the automobile\n",
            "Organization: Hewlett-Packard NARC Atlanta\n",
            "X-Newsreader: Tin 1.1.3 PL5\n",
            "Lines: 14\n",
            "From: a137490@lehtori.cc.tut.fi (Aario Sami)\n",
            "Subject: Re: Genocide is Caused by Atheism\n",
            "Organization: Tampere University of Technology, Computing Centre\n",
            "Lines: 37\n",
            "Distribution: sfnet\n",
            "NNTP-Posting-Host: cc.tut.fi\n",
            "From: sethf@athena.mit.edu (Seth Finkelstein)\n",
            "Subject: Re: The source of that announcement\n",
            "Organization: Massachvsetts Institvte of Technology\n",
            "Lines: 28\n",
            "Distribution: world\n",
            "NNTP-Posting-Host: frumious-bandersnatch.mit.edu\n",
            "From: lwb@cs.utexas.edu (Lance W. Bledsoe)\n",
            "Subject: Re: ATF suspects drug lab in compound\n",
            "Organization: CS Dept, University of Texas at Austin\n",
            "Lines: 24\n",
            "NNTP-Posting-Host: im4u.cs.utexas.edu\n",
            "From: chrisb@seachg.com (Chris Blask)\n",
            "Subject: Re: islamic authority over women\n",
            "Reply-To: chrisb@seachg.com (Chris Blask)\n",
            "Organization: Me, Mississauga, Ontario, Canada\n",
            "Lines: 78\n",
            "From: suresh@pa.dec.com (Suresh Balasubramanian)\n",
            "Subject: *****Twin Size Mattress/BoxSprng/Frame for SALE $75*****\n",
            "Organization: Digital Equipment Corporation\n",
            "Lines: 29\n",
            "Distribution: ba\n",
            "NNTP-Posting-Host: tmax4.pa.dec.com\n",
            "From: sera@zuma.UUCP (Serdar Argic)\n",
            "Subject: Re: Jews in LATVIA - some documents\n",
            "Article-I.D.: zuma.9304052018\n",
            "Reply-To: sera@zuma.UUCP (Serdar Argic)\n",
            "Distribution: world\n",
            "Lines: 407\n",
            "From: callison@uokmax.ecn.uoknor.edu (James P. Callison)\n",
            "Subject: Re: WARNING.....(please read)...\n",
            "Nntp-Posting-Host: uokmax.ecn.uoknor.edu\n",
            "Organization: Engineering Computer Network, University of Oklahoma, Norman, OK, USA\n",
            "Lines: 32\n",
            "From: harry@neuron6.jpl.nasa.gov (Harry Langenbacher)\n",
            "Subject: Re: Uninterruptible Power Supply\n",
            "Article-I.D.: jato.1993Apr15.225326.22831\n",
            "Organization: JPL Pasadena CA\n",
            "Lines: 25\n",
            "Nntp-Posting-Host: neuron6.jpl.nasa.gov\n",
            "From: rdb1@cbnewsj.cb.att.com (ronald.j.deblock..jr)\n",
            "Subject: Re: Changing oil by self.\n",
            "Organization: AT&T\n",
            "Distribution: usa\n",
            "Keywords: n\n",
            "Lines: 19\n",
            "From: robert.desonia@hal9k.ann-arbor.mi.us (Robert Desonia) \n",
            "Subject: SIMM Speed\n",
            "Distribution: world\n",
            "Organization: HAL 9000 BBS, W-NET HQ, Ann Arbor, Michigan, USA\n",
            "Reply-To: robert.desonia@hal9k.ann-arbor.mi.us (Robert Desonia) \n",
            "Lines: 27\n",
            "From: markz@ssc.com (Mark Zenier)\n",
            "Subject: Re: Trace size for a 15 Amp supply\n",
            "Organization: SSC, Inc.,  Seattle, WA\n",
            "X-Newsreader: TIN [version 1.1 PL6]\n",
            "Lines: 12\n",
            "From: pcw@access.digex.com (Peter Wayner)\n",
            "Subject: The Old Key Registration Idea...\n",
            "Organization: Express Access Online Communications, Greenbelt, MD USA\n",
            "Lines: 25\n",
            "NNTP-Posting-Host: access.digex.net\n",
            "From: roger@hpscit.sc.hp.com (Roger Mullane)\n",
            "Subject: Re: 86 Acura Integra 5-speed\n",
            "Organization: Hewlett-Packard, Santa Clara, CA\n",
            "Lines: 26\n",
            "From: jfb@cci632.cci.com (John Bruno)\n",
            "Subject: MS-Windows access for the blind?\n",
            "Organization: [Computer Consoles, Inc., Rochester, NY\n",
            "From: branham@binah.cc.brandeis.edu\n",
            "Subject: Windows Locks up with green lines down the Screen\n",
            "Reply-To: branham@binah.cc.brandeis.edu\n",
            "Organization: Brandeis University\n",
            "Lines: 18\n",
            "From:  (Rashid)\n",
            "Subject: Re: Yet more Rushdie [Re: ISLAMIC LAW]\n",
            "Nntp-Posting-Host: 47.252.4.179\n",
            "Organization: NH\n",
            "Lines: 76\n",
            "From: roby@chopin.udel.edu (Scott W Roby)\n",
            "Subject: Re: BATF/FBI Murders Almost Everyone in Waco Today! 4/19\n",
            "Nntp-Posting-Host: chopin.udel.edu\n",
            "Organization: University of Delaware\n",
            "Lines: 45\n",
            "From: edb@dmssyd.syd.dms.CSIRO.AU (Ed Breen)\n",
            "Subject: DICTA-93\n",
            "Originator: edb@friend.syd.dms.CSIRO.AU\n",
            "Keywords: Conference\n",
            "Reply-To: edb@dmssyd.syd.dms.CSIRO.AU (Ed Breen)\n",
            "Organization: CSIRO Division of Mathematics and Statistics, Australia\n",
            "Lines: 163\n",
            "From: wil@shell.portal.com (Ville V Walveranta)\n",
            "Subject: Re: Fall Comdex '93\n",
            "Nntp-Posting-Host: jobe\n",
            "Organization: Portal Communications Company\n",
            "X-Newsreader: TIN [version 1.1 PL8]\n",
            "Lines: 20\n",
            "From: eliot@lanmola.engr.washington.edu (eliot)\n",
            "Subject: Re: MR2 - noisy engine.\n",
            "Organization: clearer than blir\n",
            "Lines: 20\n",
            "NNTP-Posting-Host: lanmola.engr.washington.edu\n",
            "From: olson@anchor.esd.sgi.com (Dave Olson)\n",
            "Subject: Re: How much should I pay for a SCSI cable (with 3 or 4 connectors)?\n",
            "Organization: Silicon Graphics, Inc.  Mountain View, CA\n",
            "Lines: 21\n",
            "From: ralph@spss.com (Ralph Brendler)\n",
            "Subject: Re: Using Microsoft Foundation Classes with Borland C++ 3.1\n",
            "Organization: SPSS, Inc.\n",
            "Distribution: usa\n",
            "Lines: 53\n",
            "From: beck@irzr17.inf.tu-dresden.de (Andre Beck)\n",
            "Subject: Re: Fonts in POV??\n",
            "Organization: Dept. of Computer Science, TU Dresden, Germany.\n",
            "Lines: 57\n",
            "Distribution: world\n",
            "Reply-To: Andre_Beck@IRS.Inf.TU-Dresden.DE\n",
            "NNTP-Posting-Host: irzr17.inf.tu-dresden.de\n",
            "Keywords: fonts, raytrace\n",
            "From: hammerl@acsu.buffalo.edu (Valerie S. Hammerl)\n",
            "Subject: Re: Goalie Mask Update\n",
            "Organization: UB\n",
            "Lines: 19\n",
            "Nntp-Posting-Host: lictor.acsu.buffalo.edu\n",
            "From: mcole@spock (COLE)\n",
            "Subject: 8051 Microcontroller\n",
            "Organization: New Mexico State University\n",
            "Lines: 3\n",
            "NNTP-Posting-Host: spock.nmsu.edu\n",
            "Organization: Penn State University\n",
            "From: <PCA103@psuvm.psu.edu>\n",
            "Subject: ATARI 2600 Processors\n",
            "Lines: 12\n",
            "From: sera@zuma.UUCP (Serdar Argic)\n",
            "Subject: In Nazi Germany, Armenians were considered to be an Aryan race and...\n",
            "Reply-To: sera@zuma.UUCP (Serdar Argic)\n",
            "Distribution: world\n",
            "Lines: 41\n",
            "From: iisakkil@gamma.hut.fi (Mika Iisakkila)\n",
            "Subject: Re: what to do with old 256k SIMMs?\n",
            "In-Reply-To: rubin@cis.ohio-state.edu's message of 17 Apr 1993 14:05:06 -0400\n",
            "Nntp-Posting-Host: gamma.hut.fi\n",
            "Organization: Helsinki University of Technology, Finland\n",
            "\t<1qpgsiINN31p@diplodocus.cis.ohio-state.edu>\n",
            "Lines: 15\n",
            "From: ebosco@us.oracle.com (Eric Bosco)\n",
            "Subject: Windows 3.1 keeps crashing: Please HELP\n",
            "Nntp-Posting-Host: monica.us.oracle.com\n",
            "Reply-To: ebosco@us.oracle.com\n",
            "Organization: Oracle Corp., Redwood Shores CA\n",
            "X-Disclaimer: This message was written by an unauthenticated user\n",
            "              at Oracle Corporation.  The opinions expressed are those\n",
            "              of the user and not necessarily those of Oracle.\n",
            "Lines: 41\n",
            "From: speedy@engr.latech.edu (Speedy Mercer)\n",
            "Subject: Re: MOTORCYCLE DETAILING TIP #18\n",
            "Organization: Louisiana Tech University\n",
            "Lines: 15\n",
            "NNTP-Posting-Host: bhm116e-spc.engr.latech.edu\n",
            "From: coburnn@spot.Colorado.EDU (Nicholas S. Coburn)\n",
            "Subject: Re: bikes with big dogs\n",
            "Nntp-Posting-Host: spot.colorado.edu\n",
            "Organization: University of Colorado, Boulder\n",
            "Lines: 19\n",
            "From: ndallen@r-node.hub.org (Nigel Allen)\n",
            "Subject: Reserve officers say demographics ignored in nominations to close naval, marine reserve centers\n",
            "Organization: R-node Public Access Unix - 1 416 249 5366\n",
            "Lines: 53\n",
            "From: billh@greed.sbil.co.uk (Bill Hodgson)\n",
            "Subject: Re: waiting for a specific event/callback\n",
            "Reply-To: billh@greed.sbil.co.uk\n",
            "Organization: Salomon Brothers, Ltd.\n",
            "Lines: 20\n",
            "Nntp-Posting-Host: greed\n",
            "From: cjhs@minster.york.ac.uk\n",
            "Subject: Re: free moral agency\n",
            "Distribution: world\n",
            "Organization: Department of Computer Science, University of York, England\n",
            "Lines: 11\n",
            "[['WHAT car is this!?'], ['SI Clock Poll - Final Call', 'Final call for SI clock reports'], ['PB questions...'], ['Re: Weitek P9000 ?'], ['Re: Shuttle Launch Question']]\n",
            "[[], ['SI,acceleration,clock,upgrade'], [], [], []]\n",
            "[['University of Maryland, College Park'], ['University of Washington'], ['Purdue University Engineering Computer Network'], ['Harris Computer Systems Division'], ['Smithsonian Astrophysical Observatory, Cambridge, MA,  USA']]\n",
            "Document 1:\n",
            "Category: rec.autos\n",
            " I was wondering if anyone out there could enlighten me on this car I saw\n",
            "the other day. It was a 2-door sports car, looked to be from the late 60s/\n",
            "early 70s. It was called a Bricklin. The doors were really small. In addition,\n",
            "the front bumper was separate from the rest of the body. This is \n",
            "all I know. If anyone can tellme a model name, engine specs, years\n",
            "of production, where this car is made, history, or whatever info you\n",
            "have on this funky looking car, please e-mail.\n",
            "---------------------------------------------------\n",
            "\n",
            "Document 2:\n",
            "Category: comp.sys.mac.hardware\n",
            "A fair number of brave souls who upgraded their SI clock oscillator have\n",
            "shared their experiences for this poll. Please send a brief message detailing\n",
            "your experiences with the procedure. Top speed attained, CPU rated speed,\n",
            "add on cards and adapters, heat sinks, hour of usage per day, floppy disk\n",
            "functionality with 800 and 1.4 m floppies are especially requested.\n",
            "I will be summarizing in the next two days, so please add to the network\n",
            "knowledge base if you have done the clock upgrade and haven't answered this\n",
            "poll. Thanks.\n",
            "---------------------------------------------------\n",
            "\n",
            "Document 3:\n",
            "Category: comp.sys.mac.hardware\n",
            "well folks, my mac plus finally gave up the ghost this weekend after\n",
            "starting life as a 512k way back in 1985.  sooo, i'm in the market for a\n",
            "new machine a bit sooner than i intended to be...\n",
            "i'm looking into picking up a powerbook 160 or maybe 180 and have a bunch\n",
            "of questions that (hopefully) somebody can answer:\n",
            "* does anybody know any dirt on when the next round of powerbook\n",
            "introductions are expected?  i'd heard the 185c was supposed to make an\n",
            "appearence \"this summer\" but haven't heard anymore on it - and since i\n",
            "don't have access to macleak, i was wondering if anybody out there had\n",
            "more info...\n",
            "* has anybody heard rumors about price drops to the powerbook line like the\n",
            "ones the duo's just went through recently?\n",
            "* what's the impression of the display on the 180?  i could probably swing\n",
            "a 180 if i got the 80Mb disk rather than the 120, but i don't really have\n",
            "a feel for how much \"better\" the display is (yea, it looks great in the\n",
            "store, but is that all \"wow\" or is it really that good?).  could i solicit\n",
            "some opinions of people who use the 160 and 180 day-to-day on if its worth\n",
            "taking the disk size and money hit to get the active display?  (i realize\n",
            "this is a real subjective question, but i've only played around with the\n",
            "machines in a computer store breifly and figured the opinions of somebody\n",
            "who actually uses the machine daily might prove helpful).\n",
            "* how well does hellcats perform?  ;)\n",
            "thanks a bunch in advance for any info - if you could email, i'll post a\n",
            "summary (news reading time is at a premium with finals just around the\n",
            "corner... :( )\n",
            "--\n",
            "Tom Willis  \\  twillis@ecn.purdue.edu    \\    Purdue Electrical Engineering\n",
            "---------------------------------------------------\n",
            "\n",
            "Document 4:\n",
            "Category: comp.graphics\n",
            "Do you have Weitek's address/phone number?  I'd like to get some information\n",
            "about this chip.\n",
            "\n",
            "---------------------------------------------------\n",
            "\n",
            "Document 5:\n",
            "Category: sci.space\n",
            "From article <C5owCB.n3p@world.std.com>, by tombaker@world.std.com (Tom A Baker):\n",
            "My understanding is that the 'expected errors' are basically\n",
            "known bugs in the warning system software - things are checked\n",
            "that don't have the right values in yet because they aren't\n",
            "set till after launch, and suchlike. Rather than fix the code\n",
            "and possibly introduce new bugs, they just tell the crew\n",
            "'ok, if you see a warning no. 213 before liftoff, ignore it'.\n",
            "---------------------------------------------------\n",
            "\n"
          ]
        }
      ]
    },
    {
      "cell_type": "markdown",
      "source": [
        "# Removing Stopwords\n",
        "Defined in advance to catch every form of possible stopwords"
      ],
      "metadata": {
        "id": "m0Q6XNAe0rZQ"
      }
    },
    {
      "cell_type": "code",
      "source": [
        "nltk.download('stopwords')"
      ],
      "metadata": {
        "id": "hHbC6EPBfGcb",
        "colab": {
          "base_uri": "https://localhost:8080/"
        },
        "outputId": "f543b822-6fd2-465a-efd6-f554cb5c26f3"
      },
      "execution_count": null,
      "outputs": [
        {
          "output_type": "stream",
          "name": "stderr",
          "text": [
            "[nltk_data] Downloading package stopwords to /root/nltk_data...\n",
            "[nltk_data]   Unzipping corpora/stopwords.zip.\n"
          ]
        },
        {
          "output_type": "execute_result",
          "data": {
            "text/plain": [
              "True"
            ]
          },
          "metadata": {},
          "execution_count": 5
        }
      ]
    },
    {
      "cell_type": "code",
      "source": [
        "stopwords_list = stopwords.words('english')\n",
        "#custom = [\"article\", \"writes\", \"entry\", \"date\", \"udel\", \"said\", \"tell\", \"think\", \"know\", \"just\", \"newsgroup\",\n",
        "   #                  \"line\", \"like\", \"does\", \"going\", \"make\", \"thanks\", \"could\", \"would\", \"re\"]\n",
        "#stopwords_list.extend(custom)\n",
        "#stopwords_list = set(stopwords_list)"
      ],
      "metadata": {
        "id": "0PqBNnfgtrIO"
      },
      "execution_count": null,
      "outputs": []
    },
    {
      "cell_type": "code",
      "source": [
        "def removeStopwords(documentList):\n",
        "    stopword_removed_documents = []\n",
        "    for tokens in documentList:\n",
        "        filtered_tokens = [token for token in tokens if token not in stopwords_list]\n",
        "        stopword_removed_documents.append(filtered_tokens)\n",
        "    return stopword_removed_documents"
      ],
      "metadata": {
        "id": "fdqSqj13gdtr"
      },
      "execution_count": null,
      "outputs": []
    },
    {
      "cell_type": "markdown",
      "source": [
        "# Tokenization - tokenized_documents\n"
      ],
      "metadata": {
        "id": "Ja4tMbjw0n3f"
      }
    },
    {
      "cell_type": "code",
      "source": [
        "REMOVE_DIGITS = True\n",
        "MIN_TOKEN_LEN = 4\n",
        "\n",
        "import nltk\n",
        "nltk.download('punkt')"
      ],
      "metadata": {
        "colab": {
          "base_uri": "https://localhost:8080/"
        },
        "id": "YUe4u976uWN0",
        "outputId": "e0ac9237-dfe3-4f2e-b0d3-ccdddd711046"
      },
      "execution_count": null,
      "outputs": [
        {
          "output_type": "stream",
          "name": "stderr",
          "text": [
            "[nltk_data] Downloading package punkt to /root/nltk_data...\n",
            "[nltk_data]   Unzipping tokenizers/punkt.zip.\n"
          ]
        },
        {
          "output_type": "execute_result",
          "data": {
            "text/plain": [
              "True"
            ]
          },
          "metadata": {},
          "execution_count": 8
        }
      ]
    },
    {
      "cell_type": "code",
      "source": [
        "tokenized_documents = []\n",
        "\n",
        "for document in cleaned_documents:\n",
        "    tokens = nltk.word_tokenize(document)\n",
        "    filtered_tokens = [token for token in tokens if len(token) >= 4]\n",
        "    tokenized_documents.append(filtered_tokens)\n",
        "\n",
        "stopwords_list = set(stopwords_list)\n",
        "stopword_removed_documents = []\n",
        "for tokens in tokenized_documents:\n",
        "    filtered_tokens = [token.lower() for token in tokens if token.lower() not in stopwords_list]\n",
        "    stopword_removed_documents.append(filtered_tokens)\n",
        "tokenized_documents = stopword_removed_documents"
      ],
      "metadata": {
        "id": "-IS2LwDLHWQQ"
      },
      "execution_count": null,
      "outputs": []
    },
    {
      "cell_type": "code",
      "source": [
        "tokenized_documents = []\n",
        "tokenized_subjects = []\n",
        "tokenized_keywords = []\n",
        "tokenized_organization = []\n",
        "for document in cleaned_documents:\n",
        "    document = re.sub('[0-9]+', ' ', document) if REMOVE_DIGITS else document\n",
        "    tokens = nltk.word_tokenize(document)\n",
        "    filtered_tokens = [token.lower() for token in tokens if len(token) >= MIN_TOKEN_LEN]\n",
        "    tokenized_documents.append(filtered_tokens)\n",
        "for subject_set in subjects:\n",
        "    tokenized_sub = []\n",
        "    for subject in subject_set:\n",
        "        sub = re.sub('[0-9]+', ' ', subject) if REMOVE_DIGITS else subject\n",
        "def tokenizeTexts(textList):\n",
        "    for\n",
        "\n",
        "subjects = []\n",
        "keywords = []\n",
        "organizations = []\n",
        "\n",
        "tokenized_documents = removeStopwords(tokenized_documents)\n",
        "\n",
        "printSampleDocuments(tokenized_documents)\n",
        "'''\n",
        "# Print a few sample tokenized documents\n",
        "num_samples = 5  # Number of sample documents to print\n",
        "\n",
        "for i in range(num_samples):\n",
        "    print(f\"Document {i+1}:\")\n",
        "    print(f\"Category: {data.target_names[labels[i]]}\")\n",
        "\n",
        "    tokens = tokenized_documents[i]\n",
        "    print(tokens)\n",
        "    print(\"---------------------------------------------------\\n\")\n",
        "'''"
      ],
      "metadata": {
        "id": "P2dY-Moad6MP",
        "colab": {
          "base_uri": "https://localhost:8080/"
        },
        "outputId": "43b38b89-57d9-4e97-e2a7-988ec8919caa"
      },
      "execution_count": null,
      "outputs": [
        {
          "output_type": "stream",
          "name": "stdout",
          "text": [
            "Document 1:\n",
            "Category: rec.autos\n",
            "['wondering', 'anyone', 'there', 'could', 'enlighten', 'this', 'other', '-door', 'sports', 'looked', 'from', 'late', 'early', 'called', 'bricklin', 'doors', 'were', 'really', 'small', 'addition', 'front', 'bumper', 'separate', 'from', 'rest', 'body', 'this', 'know', 'anyone', 'tellme', 'model', 'name', 'engine', 'specs', 'years', 'production', 'where', 'this', 'made', 'history', 'whatever', 'info', 'have', 'this', 'funky', 'looking', 'please', 'e-mail', 'thanks', 'brought', 'your', 'neighborhood', 'lerxst']\n",
            "---------------------------------------------------\n",
            "\n",
            "Document 2:\n",
            "Category: comp.sys.mac.hardware\n",
            "['fair', 'number', 'brave', 'souls', 'upgraded', 'their', 'clock', 'oscillator', 'have', 'shared', 'their', 'experiences', 'this', 'poll', 'please', 'send', 'brief', 'message', 'detailing', 'your', 'experiences', 'with', 'procedure', 'speed', 'attained', 'rated', 'speed', 'cards', 'adapters', 'heat', 'sinks', 'hour', 'usage', 'floppy', 'disk', 'functionality', 'with', 'floppies', 'especially', 'requested', 'will', 'summarizing', 'next', 'days', 'please', 'network', 'knowledge', 'base', 'have', 'done', 'clock', 'upgrade', 'have', 'answered', 'this', 'poll', 'thanks', 'guykuo', 'u.washington.edu']\n",
            "---------------------------------------------------\n",
            "\n",
            "Document 3:\n",
            "Category: comp.sys.mac.hardware\n",
            "['well', 'folks', 'plus', 'finally', 'gave', 'ghost', 'this', 'weekend', 'after', 'starting', 'life', 'back', 'sooo', 'market', 'machine', 'sooner', 'than', 'intended', 'looking', 'into', 'picking', 'powerbook', 'maybe', 'have', 'bunch', 'questions', 'that', 'hopefully', 'somebody', 'answer', 'does', 'anybody', 'know', 'dirt', 'when', 'next', 'round', 'powerbook', 'introductions', 'expected', 'heard', 'supposed', 'make', 'appearence', 'this', 'summer', 'have', 'heard', 'anymore', 'since', 'have', 'access', 'macleak', 'wondering', 'anybody', 'there', 'more', 'info', 'anybody', 'heard', 'rumors', 'about', 'price', 'drops', 'powerbook', 'line', 'like', 'ones', 'just', 'went', 'through', 'recently', 'what', 'impression', 'display', 'could', 'probably', 'swing', 'disk', 'rather', 'than', 'really', 'have', 'feel', 'much', 'better', 'display', 'looks', 'great', 'store', 'that', 'really', 'that', 'good', 'could', 'solicit', 'some', 'opinions', 'people', 'day-to-day', 'worth', 'taking', 'disk', 'size', 'money', 'active', 'display', 'realize', 'this', 'real', 'subjective', 'question', 'only', 'played', 'around', 'with', 'machines', 'computer', 'store', 'breifly', 'figured', 'opinions', 'somebody', 'actually', 'uses', 'machine', 'daily', 'might', 'prove', 'helpful', 'well', 'does', 'hellcats', 'perform', 'thanks', 'bunch', 'advance', 'info', 'could', 'email', 'post', 'summary', 'news', 'reading', 'time', 'premium', 'with', 'finals', 'just', 'around', 'corner', 'willis', 'twillis', 'ecn.purdue.edu', 'purdue', 'electrical', 'engineering', 'convictions', 'more', 'dangerous', 'enemies', 'truth', 'than', 'lies', 'nietzsche']\n",
            "---------------------------------------------------\n",
            "\n",
            "Document 4:\n",
            "Category: comp.graphics\n",
            "['robert', 'j.c.', 'kyanko', 'rjck.uucp', 'wrote', 'abraxis', 'iastate.edu', 'writes', 'article', 'abraxis', 'class', '.iastate.edu', 'anyone', 'know', 'about', 'weitek', 'graphics', 'chip', 'low-level', 'stuff', 'goes', 'looks', 'pretty', 'nice', 'this', 'quadrilateral', 'fill', 'command', 'that', 'requires', 'just', 'four', 'points', 'have', 'weitek', 'address/phone', 'number', 'like', 'some', 'information', 'about', 'this', 'chip', 'green', 'harris', 'corporation', 'jgreen', 'csd.harris.com', 'computer', 'systems', 'division', 'only', 'thing', 'that', 'really', 'scares', 'person', 'with', 'sense', 'humor', 'jonathan', 'winters']\n",
            "---------------------------------------------------\n",
            "\n",
            "Document 5:\n",
            "Category: sci.space\n",
            "['from', 'article', 'owcb.n', 'world.std.com', 'tombaker', 'world.std.com', 'baker', 'article', 'jlwx', 'cs.cmu.edu', 'etrat', 'ttacs', '.ttu.edu', 'pack', 'writes', 'clear', 'caution', 'warning', 'memory', 'verify', 'unexpected', 'errors', 'wondering', 'what', 'expected', 'error', 'might', 'sorry', 'this', 'really', 'dumb', 'question', 'parity', 'errors', 'memory', 'previously', 'known', 'conditions', 'that', 'were', 'waivered', 'that', 'error', 'already', 'knew', 'about', 'curious', 'what', 'real', 'meaning', 'quote', 'understanding', 'that', \"'expected\", 'errors', 'basically', 'known', 'bugs', 'warning', 'system', 'software', 'things', 'checked', 'that', 'have', 'right', 'values', 'because', 'they', \"aren't\", 'till', 'after', 'launch', 'suchlike', 'rather', 'than', 'code', 'possibly', 'introduce', 'bugs', 'they', 'just', 'tell', 'crew', 'warning', 'before', 'liftoff', 'ignore', 'jonathan']\n",
            "---------------------------------------------------\n",
            "\n",
            "Document 1:\n",
            "Category: rec.autos\n",
            "['wondering', 'anyone', 'enlighten', '-door', 'sports', 'looked', 'late', 'early', 'called', 'bricklin', 'doors', 'really', 'small', 'addition', 'front', 'bumper', 'separate', 'rest', 'body', 'anyone', 'tellme', 'model', 'name', 'engine', 'specs', 'years', 'production', 'made', 'history', 'whatever', 'info', 'funky', 'looking', 'please', 'e-mail', 'brought', 'neighborhood', 'lerxst']\n",
            "---------------------------------------------------\n",
            "\n",
            "Document 2:\n",
            "Category: comp.sys.mac.hardware\n",
            "['fair', 'number', 'brave', 'souls', 'upgraded', 'clock', 'oscillator', 'shared', 'experiences', 'poll', 'please', 'send', 'brief', 'message', 'detailing', 'experiences', 'procedure', 'speed', 'attained', 'rated', 'speed', 'cards', 'adapters', 'heat', 'sinks', 'hour', 'usage', 'floppy', 'disk', 'functionality', 'floppies', 'especially', 'requested', 'summarizing', 'next', 'days', 'please', 'network', 'knowledge', 'base', 'done', 'clock', 'upgrade', 'answered', 'poll', 'guykuo', 'u.washington.edu']\n",
            "---------------------------------------------------\n",
            "\n",
            "Document 3:\n",
            "Category: comp.sys.mac.hardware\n",
            "['well', 'folks', 'plus', 'finally', 'gave', 'ghost', 'weekend', 'starting', 'life', 'back', 'sooo', 'market', 'machine', 'sooner', 'intended', 'looking', 'picking', 'powerbook', 'maybe', 'bunch', 'questions', 'hopefully', 'somebody', 'answer', 'anybody', 'dirt', 'next', 'round', 'powerbook', 'introductions', 'expected', 'heard', 'supposed', 'appearence', 'summer', 'heard', 'anymore', 'since', 'access', 'macleak', 'wondering', 'anybody', 'info', 'anybody', 'heard', 'rumors', 'price', 'drops', 'powerbook', 'ones', 'went', 'recently', 'impression', 'display', 'probably', 'swing', 'disk', 'rather', 'really', 'feel', 'much', 'better', 'display', 'looks', 'great', 'store', 'really', 'good', 'solicit', 'opinions', 'people', 'day-to-day', 'worth', 'taking', 'disk', 'size', 'money', 'active', 'display', 'realize', 'real', 'subjective', 'question', 'played', 'around', 'machines', 'computer', 'store', 'breifly', 'figured', 'opinions', 'somebody', 'actually', 'uses', 'machine', 'daily', 'might', 'prove', 'helpful', 'well', 'hellcats', 'perform', 'bunch', 'advance', 'info', 'email', 'post', 'summary', 'news', 'reading', 'time', 'premium', 'finals', 'around', 'corner', 'willis', 'twillis', 'ecn.purdue.edu', 'purdue', 'electrical', 'engineering', 'convictions', 'dangerous', 'enemies', 'truth', 'lies', 'nietzsche']\n",
            "---------------------------------------------------\n",
            "\n",
            "Document 4:\n",
            "Category: comp.graphics\n",
            "['robert', 'j.c.', 'kyanko', 'rjck.uucp', 'wrote', 'abraxis', 'iastate.edu', 'abraxis', 'class', '.iastate.edu', 'anyone', 'weitek', 'graphics', 'chip', 'low-level', 'stuff', 'goes', 'looks', 'pretty', 'nice', 'quadrilateral', 'fill', 'command', 'requires', 'four', 'points', 'weitek', 'address/phone', 'number', 'information', 'chip', 'green', 'harris', 'corporation', 'jgreen', 'csd.harris.com', 'computer', 'systems', 'division', 'thing', 'really', 'scares', 'person', 'sense', 'humor', 'jonathan', 'winters']\n",
            "---------------------------------------------------\n",
            "\n",
            "Document 5:\n",
            "Category: sci.space\n",
            "['owcb.n', 'world.std.com', 'tombaker', 'world.std.com', 'baker', 'jlwx', 'cs.cmu.edu', 'etrat', 'ttacs', '.ttu.edu', 'pack', 'clear', 'caution', 'warning', 'memory', 'verify', 'unexpected', 'errors', 'wondering', 'expected', 'error', 'might', 'sorry', 'really', 'dumb', 'question', 'parity', 'errors', 'memory', 'previously', 'known', 'conditions', 'waivered', 'error', 'already', 'knew', 'curious', 'real', 'meaning', 'quote', 'understanding', \"'expected\", 'errors', 'basically', 'known', 'bugs', 'warning', 'system', 'software', 'things', 'checked', 'right', 'values', 'till', 'launch', 'suchlike', 'rather', 'code', 'possibly', 'introduce', 'bugs', 'crew', 'warning', 'liftoff', 'ignore', 'jonathan']\n",
            "---------------------------------------------------\n",
            "\n"
          ]
        }
      ]
    },
    {
      "cell_type": "markdown",
      "source": [
        "# Lemmatize tokens - lemmatized_documents\n"
      ],
      "metadata": {
        "id": "5pRnjX0qc7EO"
      }
    },
    {
      "cell_type": "code",
      "source": [
        "from nltk.stem.wordnet import WordNetLemmatizer\n",
        "nltk.download('wordnet')"
      ],
      "metadata": {
        "colab": {
          "base_uri": "https://localhost:8080/"
        },
        "id": "6GD_MBVAt0Hm",
        "outputId": "85b04221-d050-40d2-a09d-ef272107bc9a"
      },
      "execution_count": null,
      "outputs": [
        {
          "output_type": "stream",
          "name": "stderr",
          "text": [
            "[nltk_data] Downloading package wordnet to /root/nltk_data...\n"
          ]
        },
        {
          "output_type": "execute_result",
          "data": {
            "text/plain": [
              "True"
            ]
          },
          "metadata": {},
          "execution_count": 22
        }
      ]
    },
    {
      "cell_type": "code",
      "source": [
        "lemmatized_documents = []\n",
        "lemmatizer = WordNetLemmatizer()\n",
        "\n",
        "for tokens in tokenized_documents:\n",
        "    lemmatized_tokens = [lemmatizer.lemmatize(token) for token in tokens]\n",
        "    lemmatized_documents.append(lemmatized_tokens)\n",
        "\n",
        "#lemmatized_documents = removeStopwords(lemmatized_documents)\n",
        "printSampleDocuments(lemmatized_documents)"
      ],
      "metadata": {
        "colab": {
          "base_uri": "https://localhost:8080/"
        },
        "id": "B5PKLHBJdIDu",
        "outputId": "ca8d40cb-2015-48b9-f901-fa8ece2e5ca2"
      },
      "execution_count": null,
      "outputs": [
        {
          "output_type": "stream",
          "name": "stdout",
          "text": [
            "Document 1:\n",
            "Category: rec.autos\n",
            "['wondering', 'anyone', 'could', 'enlighten', '2-door', 'sport', 'looked', 'late', '60s/', 'early', 'called', 'bricklin', 'door', 'really', 'small', 'addition', 'front', 'bumper', 'separate', 'rest', 'body', 'know', 'anyone', 'tellme', 'model', 'name', 'engine', 'spec', 'year', 'production', 'made', 'history', 'whatever', 'info', 'funky', 'looking', 'please', 'e-mail']\n",
            "---------------------------------------------------\n",
            "\n",
            "Document 2:\n",
            "Category: comp.sys.mac.hardware\n",
            "['fair', 'number', 'brave', 'soul', 'upgraded', 'clock', 'oscillator', 'shared', 'experience', 'poll', 'please', 'send', 'brief', 'message', 'detailing', 'experience', 'procedure', 'speed', 'attained', 'rated', 'speed', 'card', 'adapter', 'heat', 'sink', 'hour', 'usage', 'floppy', 'disk', 'functionality', 'floppy', 'especially', 'requested', 'summarizing', 'next', 'day', 'please', 'network', 'knowledge', 'base', 'done', 'clock', 'upgrade', 'answered', 'poll', 'thanks']\n",
            "---------------------------------------------------\n",
            "\n",
            "Document 3:\n",
            "Category: comp.sys.mac.hardware\n",
            "['well', 'folk', 'plus', 'finally', 'gave', 'ghost', 'weekend', 'starting', 'life', '512k', 'back', '1985.', 'sooo', 'market', 'machine', 'sooner', 'intended', 'looking', 'picking', 'powerbook', 'maybe', 'bunch', 'question', 'hopefully', 'somebody', 'answer', 'anybody', 'know', 'dirt', 'next', 'round', 'powerbook', 'introduction', 'expected', 'heard', '185c', 'supposed', 'make', 'appearence', 'summer', 'heard', 'anymore', 'since', 'access', 'macleak', 'wondering', 'anybody', 'info', 'anybody', 'heard', 'rumor', 'price', 'drop', 'powerbook', 'line', 'like', 'one', 'went', 'recently', 'impression', 'display', 'could', 'probably', 'swing', '80mb', 'disk', 'rather', 'really', 'feel', 'much', 'better', 'display', 'look', 'great', 'store', 'really', 'good', 'could', 'solicit', 'opinion', 'people', 'day-to-day', 'worth', 'taking', 'disk', 'size', 'money', 'active', 'display', 'realize', 'real', 'subjective', 'question', 'played', 'around', 'machine', 'computer', 'store', 'breifly', 'figured', 'opinion', 'somebody', 'actually', 'us', 'machine', 'daily', 'might', 'prove', 'helpful', 'well', 'hellcat', 'perform', 'thanks', 'bunch', 'advance', 'info', 'could', 'email', 'post', 'summary', 'news', 'reading', 'time', 'premium', 'final', 'around', 'corner', 'willis', 'twillis', 'ecn.purdue.edu', 'purdue', 'electrical', 'engineering']\n",
            "---------------------------------------------------\n",
            "\n",
            "Document 4:\n",
            "Category: comp.graphics\n",
            "['weitek', 'address/phone', 'number', 'like', 'information', 'chip']\n",
            "---------------------------------------------------\n",
            "\n",
            "Document 5:\n",
            "Category: sci.space\n",
            "['article', 'c5owcb.n3p', 'world.std.com', 'tombaker', 'world.std.com', 'baker', 'understanding', \"'expected\", 'error', 'basically', 'known', 'bug', 'warning', 'system', 'software', 'thing', 'checked', 'right', 'value', 'till', 'launch', 'suchlike', 'rather', 'code', 'possibly', 'introduce', 'bug', 'tell', 'crew', 'warning', 'liftoff', 'ignore']\n",
            "---------------------------------------------------\n",
            "\n"
          ]
        }
      ]
    },
    {
      "cell_type": "markdown",
      "source": [
        "#Stemm tokens - stemmed_documents"
      ],
      "metadata": {
        "id": "RPizg7UcpGtJ"
      }
    },
    {
      "cell_type": "code",
      "source": [
        "from nltk.stem.wordnet import PorterStemmer"
      ],
      "metadata": {
        "id": "TenucdWCuroj"
      },
      "execution_count": null,
      "outputs": []
    },
    {
      "cell_type": "code",
      "source": [
        "stemmed_documents = []\n",
        "stemmer = PorterStemmer()\n",
        "\n",
        "for tokens in lemmatized_documents:\n",
        "    stemmed_tokens = [stemmer.stem(token) for token in tokens]\n",
        "    stemmed_documents.append(stemmed_tokens)\n",
        "\n",
        "stemmed_documents = removeStopwords(stemmed_documents)\n",
        "printSampleDocuments(stemmed_documents)"
      ],
      "metadata": {
        "colab": {
          "base_uri": "https://localhost:8080/"
        },
        "id": "uDPyj-RkpMS2",
        "outputId": "bfb830a8-6b6a-47ba-8d07-eadef5d65296"
      },
      "execution_count": null,
      "outputs": [
        {
          "output_type": "stream",
          "name": "stdout",
          "text": [
            "Document 1:\n",
            "Category: rec.autos\n",
            "['wonder', 'anyon', 'enlighten', '-door', 'sport', 'look', 'late', 'earli', 'call', 'bricklin', 'door', 'realli', 'small', 'addit', 'front', 'bumper', 'separ', 'rest', 'bodi', 'anyon', 'tellm', 'model', 'name', 'engin', 'spec', 'year', 'product', 'made', 'histori', 'whatev', 'info', 'funki', 'look', 'pleas', 'e-mail', 'brought', 'neighborhood', 'lerxst']\n",
            "---------------------------------------------------\n",
            "\n",
            "Document 2:\n",
            "Category: comp.sys.mac.hardware\n",
            "['fair', 'number', 'brave', 'soul', 'upgrad', 'clock', 'oscil', 'share', 'experi', 'poll', 'pleas', 'send', 'brief', 'messag', 'detail', 'experi', 'procedur', 'speed', 'attain', 'rate', 'speed', 'card', 'adapt', 'heat', 'sink', 'hour', 'usag', 'floppi', 'disk', 'function', 'floppi', 'especi', 'request', 'summar', 'next', 'day', 'pleas', 'network', 'knowledg', 'base', 'done', 'clock', 'upgrad', 'answer', 'poll', 'guykuo', 'u.washington.edu']\n",
            "---------------------------------------------------\n",
            "\n",
            "Document 3:\n",
            "Category: comp.sys.mac.hardware\n",
            "['well', 'folk', 'plu', 'final', 'gave', 'ghost', 'weekend', 'start', 'life', 'back', 'sooo', 'market', 'machin', 'sooner', 'intend', 'look', 'pick', 'powerbook', 'mayb', 'bunch', 'question', 'hope', 'somebodi', 'answer', 'anybodi', 'dirt', 'next', 'round', 'powerbook', 'introduct', 'expect', 'heard', 'suppos', 'appear', 'summer', 'heard', 'anymor', 'sinc', 'access', 'macleak', 'wonder', 'anybodi', 'info', 'anybodi', 'heard', 'rumor', 'price', 'drop', 'powerbook', 'one', 'went', 'recent', 'impress', 'display', 'probabl', 'swing', 'disk', 'rather', 'realli', 'feel', 'much', 'better', 'display', 'look', 'great', 'store', 'realli', 'good', 'solicit', 'opinion', 'peopl', 'day-to-day', 'worth', 'take', 'disk', 'size', 'money', 'activ', 'display', 'realiz', 'real', 'subject', 'question', 'play', 'around', 'machin', 'comput', 'store', 'breifli', 'figur', 'opinion', 'somebodi', 'actual', 'us', 'machin', 'daili', 'might', 'prove', 'help', 'well', 'hellcat', 'perform', 'bunch', 'advanc', 'info', 'email', 'post', 'summari', 'news', 'read', 'time', 'premium', 'final', 'around', 'corner', 'willi', 'twilli', 'ecn.purdue.edu', 'purdu', 'electr', 'engin', 'convict', 'danger', 'enemi', 'truth', 'lie', 'nietzsch']\n",
            "---------------------------------------------------\n",
            "\n",
            "Document 4:\n",
            "Category: comp.graphics\n",
            "['robert', 'j.c.', 'kyanko', 'rjck.uucp', 'wrote', 'abraxi', 'iastate.edu', 'abraxi', 'class', '.iastate.edu', 'anyon', 'weitek', 'graphic', 'chip', 'low-level', 'stuff', 'go', 'look', 'pretti', 'nice', 'quadrilater', 'fill', 'command', 'requir', 'four', 'point', 'weitek', 'address/phon', 'number', 'inform', 'chip', 'green', 'harri', 'corpor', 'jgreen', 'csd.harris.com', 'comput', 'system', 'divis', 'thing', 'realli', 'scare', 'person', 'sens', 'humor', 'jonathan', 'winter']\n",
            "---------------------------------------------------\n",
            "\n",
            "Document 5:\n",
            "Category: sci.space\n",
            "['owcb.n', 'world.std.com', 'tombak', 'world.std.com', 'baker', 'jlwx', 'cs.cmu.edu', 'etrat', 'ttac', '.ttu.edu', 'pack', 'clear', 'caution', 'warn', 'memori', 'verifi', 'unexpect', 'error', 'wonder', 'expect', 'error', 'might', 'sorri', 'realli', 'dumb', 'question', 'pariti', 'error', 'memori', 'previous', 'known', 'condit', 'waiver', 'error', 'alreadi', 'knew', 'curiou', 'real', 'mean', 'quot', 'understand', \"'expect\", 'error', 'basic', 'known', 'bug', 'warn', 'system', 'softwar', 'thing', 'check', 'right', 'valu', 'till', 'launch', 'suchlik', 'rather', 'code', 'possibl', 'introduc', 'bug', 'crew', 'warn', 'liftoff', 'ignor', 'jonathan']\n",
            "---------------------------------------------------\n",
            "\n"
          ]
        }
      ]
    },
    {
      "cell_type": "code",
      "source": [
        "n_documents = len(stemmed_documents)\n",
        "print(\"Number of documents:\", n_documents)"
      ],
      "metadata": {
        "colab": {
          "base_uri": "https://localhost:8080/"
        },
        "id": "LeHuqhMyh2_g",
        "outputId": "bb669cd7-120e-4858-9135-fd2d731ed048"
      },
      "execution_count": null,
      "outputs": [
        {
          "output_type": "stream",
          "name": "stdout",
          "text": [
            "Number of documents: 11314\n"
          ]
        }
      ]
    },
    {
      "cell_type": "markdown",
      "source": [
        "# Model Train"
      ],
      "metadata": {
        "id": "vnIxKA6P02eH"
      }
    },
    {
      "cell_type": "code",
      "source": [
        "from sklearn.feature_extraction.text import CountVectorizer"
      ],
      "metadata": {
        "id": "1VpkPkWShOMy"
      },
      "execution_count": null,
      "outputs": []
    },
    {
      "cell_type": "code",
      "source": [
        "\n",
        "vectorizer = CountVectorizer(min_df =5, token_pattern=r'\\b[a-zA-Z]{4,}\\b')\n",
        "#vectorized_docs = vectorizer.fit_transform([' '.join(tokens) for tokens in stemmed_documents])\n",
        "#vectorized_docs = vectorizer.fit_transform([' '.join(tokens) for tokens in lemmatized_documents])\n",
        "vectorized_docs = vectorizer.fit_transform([' '.join(tokens) for tokens in tokenized_documents])\n"
      ],
      "metadata": {
        "id": "3cYtKRRHoA2M"
      },
      "execution_count": null,
      "outputs": []
    },
    {
      "cell_type": "code",
      "source": [
        "from sklearn.decomposition import LatentDirichletAllocation\n",
        "\n",
        "# Create the LDA model\n",
        "n_topics = 15  # Specify the number of topics\n",
        "lda_model = LatentDirichletAllocation(n_components=n_topics, random_state=42)\n",
        "#ctm_model =LatentDirichletAllocation(n_components=n_topics, random_state=42, )\n",
        "# Fit the LDA model to the vectorized documents\n",
        "lda_model.fit(vectorized_docs)"
      ],
      "metadata": {
        "colab": {
          "base_uri": "https://localhost:8080/",
          "height": 75
        },
        "id": "L921nVpFjGs8",
        "outputId": "11c4d0a7-c122-47b6-b39d-fb921ce1db3c"
      },
      "execution_count": null,
      "outputs": [
        {
          "output_type": "execute_result",
          "data": {
            "text/plain": [
              "LatentDirichletAllocation(n_components=15, random_state=42)"
            ],
            "text/html": [
              "<style>#sk-container-id-1 {color: black;background-color: white;}#sk-container-id-1 pre{padding: 0;}#sk-container-id-1 div.sk-toggleable {background-color: white;}#sk-container-id-1 label.sk-toggleable__label {cursor: pointer;display: block;width: 100%;margin-bottom: 0;padding: 0.3em;box-sizing: border-box;text-align: center;}#sk-container-id-1 label.sk-toggleable__label-arrow:before {content: \"▸\";float: left;margin-right: 0.25em;color: #696969;}#sk-container-id-1 label.sk-toggleable__label-arrow:hover:before {color: black;}#sk-container-id-1 div.sk-estimator:hover label.sk-toggleable__label-arrow:before {color: black;}#sk-container-id-1 div.sk-toggleable__content {max-height: 0;max-width: 0;overflow: hidden;text-align: left;background-color: #f0f8ff;}#sk-container-id-1 div.sk-toggleable__content pre {margin: 0.2em;color: black;border-radius: 0.25em;background-color: #f0f8ff;}#sk-container-id-1 input.sk-toggleable__control:checked~div.sk-toggleable__content {max-height: 200px;max-width: 100%;overflow: auto;}#sk-container-id-1 input.sk-toggleable__control:checked~label.sk-toggleable__label-arrow:before {content: \"▾\";}#sk-container-id-1 div.sk-estimator input.sk-toggleable__control:checked~label.sk-toggleable__label {background-color: #d4ebff;}#sk-container-id-1 div.sk-label input.sk-toggleable__control:checked~label.sk-toggleable__label {background-color: #d4ebff;}#sk-container-id-1 input.sk-hidden--visually {border: 0;clip: rect(1px 1px 1px 1px);clip: rect(1px, 1px, 1px, 1px);height: 1px;margin: -1px;overflow: hidden;padding: 0;position: absolute;width: 1px;}#sk-container-id-1 div.sk-estimator {font-family: monospace;background-color: #f0f8ff;border: 1px dotted black;border-radius: 0.25em;box-sizing: border-box;margin-bottom: 0.5em;}#sk-container-id-1 div.sk-estimator:hover {background-color: #d4ebff;}#sk-container-id-1 div.sk-parallel-item::after {content: \"\";width: 100%;border-bottom: 1px solid gray;flex-grow: 1;}#sk-container-id-1 div.sk-label:hover label.sk-toggleable__label {background-color: #d4ebff;}#sk-container-id-1 div.sk-serial::before {content: \"\";position: absolute;border-left: 1px solid gray;box-sizing: border-box;top: 0;bottom: 0;left: 50%;z-index: 0;}#sk-container-id-1 div.sk-serial {display: flex;flex-direction: column;align-items: center;background-color: white;padding-right: 0.2em;padding-left: 0.2em;position: relative;}#sk-container-id-1 div.sk-item {position: relative;z-index: 1;}#sk-container-id-1 div.sk-parallel {display: flex;align-items: stretch;justify-content: center;background-color: white;position: relative;}#sk-container-id-1 div.sk-item::before, #sk-container-id-1 div.sk-parallel-item::before {content: \"\";position: absolute;border-left: 1px solid gray;box-sizing: border-box;top: 0;bottom: 0;left: 50%;z-index: -1;}#sk-container-id-1 div.sk-parallel-item {display: flex;flex-direction: column;z-index: 1;position: relative;background-color: white;}#sk-container-id-1 div.sk-parallel-item:first-child::after {align-self: flex-end;width: 50%;}#sk-container-id-1 div.sk-parallel-item:last-child::after {align-self: flex-start;width: 50%;}#sk-container-id-1 div.sk-parallel-item:only-child::after {width: 0;}#sk-container-id-1 div.sk-dashed-wrapped {border: 1px dashed gray;margin: 0 0.4em 0.5em 0.4em;box-sizing: border-box;padding-bottom: 0.4em;background-color: white;}#sk-container-id-1 div.sk-label label {font-family: monospace;font-weight: bold;display: inline-block;line-height: 1.2em;}#sk-container-id-1 div.sk-label-container {text-align: center;}#sk-container-id-1 div.sk-container {/* jupyter's `normalize.less` sets `[hidden] { display: none; }` but bootstrap.min.css set `[hidden] { display: none !important; }` so we also need the `!important` here to be able to override the default hidden behavior on the sphinx rendered scikit-learn.org. See: https://github.com/scikit-learn/scikit-learn/issues/21755 */display: inline-block !important;position: relative;}#sk-container-id-1 div.sk-text-repr-fallback {display: none;}</style><div id=\"sk-container-id-1\" class=\"sk-top-container\"><div class=\"sk-text-repr-fallback\"><pre>LatentDirichletAllocation(n_components=15, random_state=42)</pre><b>In a Jupyter environment, please rerun this cell to show the HTML representation or trust the notebook. <br />On GitHub, the HTML representation is unable to render, please try loading this page with nbviewer.org.</b></div><div class=\"sk-container\" hidden><div class=\"sk-item\"><div class=\"sk-estimator sk-toggleable\"><input class=\"sk-toggleable__control sk-hidden--visually\" id=\"sk-estimator-id-1\" type=\"checkbox\" checked><label for=\"sk-estimator-id-1\" class=\"sk-toggleable__label sk-toggleable__label-arrow\">LatentDirichletAllocation</label><div class=\"sk-toggleable__content\"><pre>LatentDirichletAllocation(n_components=15, random_state=42)</pre></div></div></div></div></div>"
            ]
          },
          "metadata": {},
          "execution_count": 12
        }
      ]
    },
    {
      "cell_type": "markdown",
      "source": [
        "# Show Topics\n"
      ],
      "metadata": {
        "id": "0vrkmCzl0_eb"
      }
    },
    {
      "cell_type": "code",
      "source": [
        "# Get the top words for each topic\n",
        "n_top_words = 7\n",
        "feature_names = vectorizer.get_feature_names_out()\n",
        "\n",
        "for topic_idx, topic in enumerate(lda_model.components_):\n",
        "    top_words_idx = topic.argsort()[:-n_top_words - 1:-1]\n",
        "    top_words = [feature_names[i] for i in top_words_idx]\n",
        "    print(f\"Topic #{topic_idx}: {', '.join(top_words)}\")"
      ],
      "metadata": {
        "colab": {
          "base_uri": "https://localhost:8080/"
        },
        "id": "MQqc1SqfkHhI",
        "outputId": "c55edcf7-f8d6-4d8f-b2d9-3cccb9af514a"
      },
      "execution_count": null,
      "outputs": [
        {
          "output_type": "stream",
          "name": "stdout",
          "text": [
            "Topic #0: would, like, think, much, could, good, time\n",
            "Topic #1: file, internet, window, anonymous, widget, list, mail\n",
            "Topic #2: team, game, year, games, season, hockey, play\n",
            "Topic #3: entry, number, public, keys, encryption, people, even\n",
            "Topic #4: guns, would, water, crime, used, insurance, rate\n",
            "Topic #5: would, people, think, believe, many, true, question\n",
            "Topic #6: president, would, know, stephanopoulos, think, going, bike\n",
            "Topic #7: said, would, people, jesus, know, could, time\n",
            "Topic #8: drive, space, scsi, disk, system, hard, drives\n",
            "Topic #9: please, thanks, would, anyone, like, know, mail\n",
            "Topic #10: people, government, armenian, israel, turkish, would, armenians\n",
            "Topic #11: right, people, would, state, amendment, well, militia\n",
            "Topic #12: university, research, space, center, nasa, information, national\n",
            "Topic #13: windows, file, software, program, available, also, version\n",
            "Topic #14: encryption, chip, period, clipper, technology, government, enforcement\n"
          ]
        }
      ]
    },
    {
      "cell_type": "code",
      "source": [
        "from tabulate import tabulate\n"
      ],
      "metadata": {
        "id": "_Q7CQJIMKI2M"
      },
      "execution_count": null,
      "outputs": []
    },
    {
      "cell_type": "code",
      "source": [
        "topic_data = [\n",
        "    [\"Topic 0\", \"would\", \"like\", \"think\", \"much\", \"could\", \"good\", \"time\"],\n",
        "    [\"Topic 1\", \"file\", \"internet\", \"window\", \"anonymous\", \"widget\", \"list\", \"mail\"],\n",
        "    [\"Topic 2\", \"team\", \"game\", \"year\", \"games\", \"season\", \"hockey\", \"play\"],\n",
        "    [\"Topic 3\", \"entry\", \"number\", \"public\", \"keys\", \"encryption\", \"people\", \"even\"],\n",
        "    [\"Topic 4\", \"guns\", \"would\", \"water\", \"crime\", \"used\", \"insurance\", \"rate\"],\n",
        "    [\"Topic 5\", \"would\", \"people\", \"think\", \"believe\", \"many\", \"true\", \"question\"],\n",
        "    [\"Topic 6\", \"president\", \"would\", \"know\", \"stephanopoulos\", \"think\", \"going\", \"bike\"],\n",
        "    [\"Topic 7\", \"said\", \"would\", \"people\", \"jesus\", \"know\", \"could\", \"time\"],\n",
        "    [\"Topic 8\", \"drive\", \"space\", \"scsi\", \"disk\", \"system\", \"hard\", \"drives\"],\n",
        "    [\"Topic 9\", \"please\", \"thanks\", \"would\", \"anyone\", \"like\", \"know\", \"mail\"],\n",
        "    [\"Topic 10\", \"people\", \"government\", \"armenian\", \"israel\", \"turkish\", \"would\", \"armenians\"],\n",
        "    [\"Topic 11\", \"right\", \"people\", \"would\", \"state\", \"amendment\", \"well\", \"militia\"],\n",
        "    [\"Topic 12\", \"university\", \"research\", \"space\", \"center\", \"nasa\", \"information\", \"national\"],\n",
        "    [\"Topic 13\", \"windows\", \"file\", \"software\", \"program\", \"available\", \"also\", \"version\"],\n",
        "    [\"Topic 14\", \"encryption\", \"chip\", \"period\", \"clipper\", \"technology\", \"government\", \"enforcement\"]\n",
        "]\n",
        "\n",
        "\n",
        "# Set the table headers\n",
        "#headers = [\"Topic Number\"]\n",
        "\n",
        "# Generate the table\n",
        "table = tabulate(topic_data, headers = [], tablefmt=\"fancy_outline\")\n",
        "\n",
        "# Print the table\n",
        "print(table)"
      ],
      "metadata": {
        "id": "0D7DxrlhJl6E",
        "outputId": "1f04704f-7ad3-4cb6-e78a-de66097d9462",
        "colab": {
          "base_uri": "https://localhost:8080/"
        }
      },
      "execution_count": null,
      "outputs": [
        {
          "output_type": "stream",
          "name": "stdout",
          "text": [
            "╒══════════╤════════════╤════════════╤══════════╤════════════════╤════════════╤═════════════╤═════════════╕\n",
            "│ Topic 0  │ would      │ like       │ think    │ much           │ could      │ good        │ time        │\n",
            "│ Topic 1  │ file       │ internet   │ window   │ anonymous      │ widget     │ list        │ mail        │\n",
            "│ Topic 2  │ team       │ game       │ year     │ games          │ season     │ hockey      │ play        │\n",
            "│ Topic 3  │ entry      │ number     │ public   │ keys           │ encryption │ people      │ even        │\n",
            "│ Topic 4  │ guns       │ would      │ water    │ crime          │ used       │ insurance   │ rate        │\n",
            "│ Topic 5  │ would      │ people     │ think    │ believe        │ many       │ true        │ question    │\n",
            "│ Topic 6  │ president  │ would      │ know     │ stephanopoulos │ think      │ going       │ bike        │\n",
            "│ Topic 7  │ said       │ would      │ people   │ jesus          │ know       │ could       │ time        │\n",
            "│ Topic 8  │ drive      │ space      │ scsi     │ disk           │ system     │ hard        │ drives      │\n",
            "│ Topic 9  │ please     │ thanks     │ would    │ anyone         │ like       │ know        │ mail        │\n",
            "│ Topic 10 │ people     │ government │ armenian │ israel         │ turkish    │ would       │ armenians   │\n",
            "│ Topic 11 │ right      │ people     │ would    │ state          │ amendment  │ well        │ militia     │\n",
            "│ Topic 12 │ university │ research   │ space    │ center         │ nasa       │ information │ national    │\n",
            "│ Topic 13 │ windows    │ file       │ software │ program        │ available  │ also        │ version     │\n",
            "│ Topic 14 │ encryption │ chip       │ period   │ clipper        │ technology │ government  │ enforcement │\n",
            "╘══════════╧════════════╧════════════╧══════════╧════════════════╧════════════╧═════════════╧═════════════╛\n"
          ]
        }
      ]
    },
    {
      "cell_type": "code",
      "source": [
        "topic_data = [\n",
        "    [\"Topic 0\", \"jesus\", \"would\", \"christ\", \"people\", \"time\"],\n",
        "    [\"Topic 1\", \"file\", \"internet\", \"anonymous\", \"bill\", \"information\" ],\n",
        "    [\"Topic 2\", \"people\", \"would\", \"think\", \"know\", \"like\"],\n",
        "    [\"Topic 3\", \"writes\", \"article\", \"would\", \"could\", \"think\"],\n",
        "    [\"Topic 4\", \"drive\", \"disk\", \"scsi\", \"anyone\", \"know\"],\n",
        "    [\"Topic 5\", \"chip\", \"encryption\", \"keys\", \"clipper\", \"number\"],\n",
        "    [\"Topic 6\", \"year\", \"team\", \"game\", \"good\", \"games\"],\n",
        "    [\"Topic 7\", \"period\", \"writes\", \"power\", \"keith\", \"play\"],\n",
        "    [\"Topic 8\", \"writes\", \"article\", \"iuic\", \"scsi\", \"would\"],\n",
        "    [\"Topic 9\", \"space\", \"nasa\", \"research\", \"health\", \"center\"],\n",
        "    [\"Topic 10\", \"jews\", \"article\", \"israel\", \"writes\", \"israeli\"],\n",
        "    [\"Topic 11\", \"file\", \"entry\", \"output\", \"program\", \"jpeg\"],\n",
        "    [\"Topic 12\", \"would\", \"people\", \"writes\", \"article\", \"could\"],\n",
        "    [\"Topic 13\", \"year\", \"health\", \"disease\", \"medical\", \"time\"],\n",
        "    [\"Topic 14\", \"launch\", \"space\", \"scsi\", \"engine\", \"satellite\"]\n",
        "]\n",
        "\n",
        "\n",
        "# Set the table headers\n",
        "#headers = [\"Topic Number\"]\n",
        "\n",
        "# Generate the table\n",
        "table = tabulate(topic_data, headers = [], tablefmt=\"fancy_outline\")\n",
        "\n",
        "# Print the table\n",
        "print(table)"
      ],
      "metadata": {
        "id": "8wS-UOD8N__q",
        "colab": {
          "base_uri": "https://localhost:8080/"
        },
        "outputId": "3dbdad2e-6fa7-4b29-bb41-a20a31a09d74"
      },
      "execution_count": null,
      "outputs": [
        {
          "output_type": "stream",
          "name": "stdout",
          "text": [
            "╒══════════╤════════╤════════════╤═══════════╤═════════╤═════════════╕\n",
            "│ Topic 0  │ jesus  │ would      │ christ    │ people  │ time        │\n",
            "│ Topic 1  │ file   │ internet   │ anonymous │ bill    │ information │\n",
            "│ Topic 2  │ people │ would      │ think     │ know    │ like        │\n",
            "│ Topic 3  │ writes │ article    │ would     │ could   │ think       │\n",
            "│ Topic 4  │ drive  │ disk       │ scsi      │ anyone  │ know        │\n",
            "│ Topic 5  │ chip   │ encryption │ keys      │ clipper │ number      │\n",
            "│ Topic 6  │ year   │ team       │ game      │ good    │ games       │\n",
            "│ Topic 7  │ period │ writes     │ power     │ keith   │ play        │\n",
            "│ Topic 8  │ writes │ article    │ iuic      │ scsi    │ would       │\n",
            "│ Topic 9  │ space  │ nasa       │ research  │ health  │ center      │\n",
            "│ Topic 10 │ jews   │ article    │ israel    │ writes  │ israeli     │\n",
            "│ Topic 11 │ file   │ entry      │ output    │ program │ jpeg        │\n",
            "│ Topic 12 │ would  │ people     │ writes    │ article │ could       │\n",
            "│ Topic 13 │ year   │ health     │ disease   │ medical │ time        │\n",
            "│ Topic 14 │ launch │ space      │ scsi      │ engine  │ satellite   │\n",
            "╘══════════╧════════╧════════════╧═══════════╧═════════╧═════════════╛\n"
          ]
        }
      ]
    },
    {
      "cell_type": "code",
      "source": [
        "import matplotlib.pyplot as plt\n",
        "\n",
        "# Create the table\n",
        "fig, ax = plt.subplots()\n",
        "table = ax.table(cellText=topic_data, loc='center')\n",
        "\n",
        "# Modify the table appearance if needed\n",
        "table.auto_set_font_size(False)\n",
        "table.set_fontsize(10)\n",
        "\n",
        "# Hide the axes\n",
        "ax.axis('off')\n",
        "\n",
        "# Save the table as an image\n",
        "plt.savefig('topic_table.png', bbox_inches='tight')\n"
      ],
      "metadata": {
        "id": "ke6LpXuINMLm",
        "outputId": "0460142f-aa4b-468d-a81c-b7c28079d702",
        "colab": {
          "base_uri": "https://localhost:8080/",
          "height": 406
        }
      },
      "execution_count": null,
      "outputs": [
        {
          "output_type": "display_data",
          "data": {
            "text/plain": [
              "<Figure size 640x480 with 1 Axes>"
            ],
            "image/png": "[encoded data removed]"
          },
          "metadata": {}
        }
      ]
    },
    {
      "cell_type": "code",
      "source": [],
      "metadata": {
        "id": "yRpzOV4hj58k"
      },
      "execution_count": null,
      "outputs": []
    },
    {
      "cell_type": "code",
      "source": [
        "# Infer topic distribution for a document\n",
        "document_index = 0\n",
        "document_topic_distribution = lda_model.transform(vectorized_docs[document_index])\n",
        "print(f\"Topic distribution for Document #{document_index}:\")\n",
        "print(document_topic_distribution)"
      ],
      "metadata": {
        "colab": {
          "base_uri": "https://localhost:8080/"
        },
        "id": "MKu3dJ_kj4Mp",
        "outputId": "dbb6a58f-f934-4834-f680-4144aef1d096"
      },
      "execution_count": null,
      "outputs": [
        {
          "output_type": "stream",
          "name": "stdout",
          "text": [
            "Topic distribution for Document #0:\n",
            "[[0.77431582 0.00185186 0.20161004 0.00185185 0.00185186 0.00185186\n",
            "  0.00185185 0.00185186 0.00185186 0.00185186 0.00185186 0.00185186\n",
            "  0.00185185 0.00185186 0.00185186]]\n"
          ]
        }
      ]
    },
    {
      "cell_type": "markdown",
      "source": [
        "# Correlated Model\n"
      ],
      "metadata": {
        "id": "cVW0Yr7D1EBz"
      }
    },
    {
      "cell_type": "code",
      "source": [
        "import numpy as np\n",
        "import scipy.special as sps"
      ],
      "metadata": {
        "id": "rwrZ1YKk318M"
      },
      "execution_count": null,
      "outputs": []
    },
    {
      "cell_type": "code",
      "source": [
        "pip install pyvis\n"
      ],
      "metadata": {
        "id": "jUnqi5qRB_gl",
        "colab": {
          "base_uri": "https://localhost:8080/"
        },
        "outputId": "ffb0833e-371d-4021-fa41-1f3ee87f4fba"
      },
      "execution_count": null,
      "outputs": [
        {
          "output_type": "stream",
          "name": "stdout",
          "text": [
            "Looking in indexes: https://pypi.org/simple, https://us-python.pkg.dev/colab-wheels/public/simple/\n",
            "Collecting pyvis\n",
            "  Downloading pyvis-0.3.2-py3-none-any.whl (756 kB)\n",
            "\u001b[2K     \u001b[90m━━━━━━━━━━━━━━━━━━━━━━━━━━━━━━━━━━━━━━\u001b[0m \u001b[32m756.0/756.0 kB\u001b[0m \u001b[31m19.0 MB/s\u001b[0m eta \u001b[36m0:00:00\u001b[0m\n",
            "\u001b[?25hRequirement already satisfied: ipython>=5.3.0 in /usr/local/lib/python3.10/dist-packages (from pyvis) (7.34.0)\n",
            "Requirement already satisfied: jinja2>=2.9.6 in /usr/local/lib/python3.10/dist-packages (from pyvis) (3.1.2)\n",
            "Requirement already satisfied: jsonpickle>=1.4.1 in /usr/local/lib/python3.10/dist-packages (from pyvis) (3.0.1)\n",
            "Requirement already satisfied: networkx>=1.11 in /usr/local/lib/python3.10/dist-packages (from pyvis) (3.1)\n",
            "Requirement already satisfied: setuptools>=18.5 in /usr/local/lib/python3.10/dist-packages (from ipython>=5.3.0->pyvis) (67.7.2)\n",
            "Collecting jedi>=0.16 (from ipython>=5.3.0->pyvis)\n",
            "  Downloading jedi-0.18.2-py2.py3-none-any.whl (1.6 MB)\n",
            "\u001b[2K     \u001b[90m━━━━━━━━━━━━━━━━━━━━━━━━━━━━━━━━━━━━━━━━\u001b[0m \u001b[32m1.6/1.6 MB\u001b[0m \u001b[31m76.6 MB/s\u001b[0m eta \u001b[36m0:00:00\u001b[0m\n",
            "\u001b[?25hRequirement already satisfied: decorator in /usr/local/lib/python3.10/dist-packages (from ipython>=5.3.0->pyvis) (4.4.2)\n",
            "Requirement already satisfied: pickleshare in /usr/local/lib/python3.10/dist-packages (from ipython>=5.3.0->pyvis) (0.7.5)\n",
            "Requirement already satisfied: traitlets>=4.2 in /usr/local/lib/python3.10/dist-packages (from ipython>=5.3.0->pyvis) (5.7.1)\n",
            "Requirement already satisfied: prompt-toolkit!=3.0.0,!=3.0.1,<3.1.0,>=2.0.0 in /usr/local/lib/python3.10/dist-packages (from ipython>=5.3.0->pyvis) (3.0.38)\n",
            "Requirement already satisfied: pygments in /usr/local/lib/python3.10/dist-packages (from ipython>=5.3.0->pyvis) (2.14.0)\n",
            "Requirement already satisfied: backcall in /usr/local/lib/python3.10/dist-packages (from ipython>=5.3.0->pyvis) (0.2.0)\n",
            "Requirement already satisfied: matplotlib-inline in /usr/local/lib/python3.10/dist-packages (from ipython>=5.3.0->pyvis) (0.1.6)\n",
            "Requirement already satisfied: pexpect>4.3 in /usr/local/lib/python3.10/dist-packages (from ipython>=5.3.0->pyvis) (4.8.0)\n",
            "Requirement already satisfied: MarkupSafe>=2.0 in /usr/local/lib/python3.10/dist-packages (from jinja2>=2.9.6->pyvis) (2.1.2)\n",
            "Requirement already satisfied: parso<0.9.0,>=0.8.0 in /usr/local/lib/python3.10/dist-packages (from jedi>=0.16->ipython>=5.3.0->pyvis) (0.8.3)\n",
            "Requirement already satisfied: ptyprocess>=0.5 in /usr/local/lib/python3.10/dist-packages (from pexpect>4.3->ipython>=5.3.0->pyvis) (0.7.0)\n",
            "Requirement already satisfied: wcwidth in /usr/local/lib/python3.10/dist-packages (from prompt-toolkit!=3.0.0,!=3.0.1,<3.1.0,>=2.0.0->ipython>=5.3.0->pyvis) (0.2.6)\n",
            "Installing collected packages: jedi, pyvis\n",
            "Successfully installed jedi-0.18.2 pyvis-0.3.2\n"
          ]
        }
      ]
    },
    {
      "cell_type": "code",
      "source": [
        "pip install tomotopy\n"
      ],
      "metadata": {
        "id": "-GpcqlI4GR78",
        "colab": {
          "base_uri": "https://localhost:8080/"
        },
        "outputId": "71bafc8e-6386-4fcd-a813-901755e4cb4a"
      },
      "execution_count": null,
      "outputs": [
        {
          "output_type": "stream",
          "name": "stdout",
          "text": [
            "Looking in indexes: https://pypi.org/simple, https://us-python.pkg.dev/colab-wheels/public/simple/\n",
            "Collecting tomotopy\n",
            "  Downloading tomotopy-0.12.4-cp310-cp310-manylinux_2_17_x86_64.manylinux2014_x86_64.whl (17.1 MB)\n",
            "\u001b[2K     \u001b[90m━━━━━━━━━━━━━━━━━━━━━━━━━━━━━━━━━━━━━━━━\u001b[0m \u001b[32m17.1/17.1 MB\u001b[0m \u001b[31m53.3 MB/s\u001b[0m eta \u001b[36m0:00:00\u001b[0m\n",
            "\u001b[?25hRequirement already satisfied: numpy>=1.11.0 in /usr/local/lib/python3.10/dist-packages (from tomotopy) (1.22.4)\n",
            "Installing collected packages: tomotopy\n",
            "Successfully installed tomotopy-0.12.4\n"
          ]
        }
      ]
    },
    {
      "cell_type": "code",
      "source": [
        "import tomotopy as tp\n",
        "import nltk\n",
        "from nltk.corpus import stopwords\n",
        "import re\n",
        "from sklearn.datasets import fetch_20newsgroups\n",
        "from pyvis.network import Network"
      ],
      "metadata": {
        "id": "4vj_GdjpBwm6"
      },
      "execution_count": null,
      "outputs": []
    },
    {
      "cell_type": "code",
      "source": [
        "#porter_stemmer = nltk.PorterStemmer().stem\n",
        "pat = re.compile('^[a-z]{4,}$')\n",
        "#corpus = tp.utils.Corpus(\n",
        " #      tokenizer=tp.utils.SimpleTokenizer(),\n",
        "  #    stopwords=lambda x: x in stopwords_list or not pat.match(x))\n",
        "corpus = tp.utils.Corpus( stopwords=lambda x:  not pat.match(x))\n",
        "for document in lemmatized_documents:\n",
        "    corpus.add_doc(document)\n",
        "\n",
        "#model = tp.LDAModel(k=5, corpus=corpus)\n",
        "#model.train(100)\n",
        "# save preprocessed corpus for reuse\n",
        "corpus.save('preprocessed_20news.cps')"
      ],
      "metadata": {
        "id": "26eVbP2dBmEs"
      },
      "execution_count": null,
      "outputs": []
    },
    {
      "cell_type": "code",
      "source": [
        "mdl = tp.CTModel(min_df=5, k=20, corpus=corpus)\n",
        "mdl.train(0)"
      ],
      "metadata": {
        "id": "D5qvuAsoDD04"
      },
      "execution_count": null,
      "outputs": []
    },
    {
      "cell_type": "code",
      "source": [
        "#mdl.num_beta_sample = 5\n",
        "print('Num docs:{}, Num Vocabs:{}, Total Words:{}'.format(\n",
        "   len(mdl.docs), len(mdl.used_vocabs), mdl.num_words\n",
        "))\n",
        "print('Removed Top words: ', *mdl.removed_top_words)\n"
      ],
      "metadata": {
        "colab": {
          "base_uri": "https://localhost:8080/"
        },
        "id": "fD163BMiDJo0",
        "outputId": "89b35cc2-fe35-4abf-8da1-a70dd7e108d9"
      },
      "execution_count": null,
      "outputs": [
        {
          "output_type": "stream",
          "name": "stdout",
          "text": [
            "Num docs:11295, Num Vocabs:15670, Total Words:1118918\n",
            "Removed Top words: \n"
          ]
        }
      ]
    },
    {
      "cell_type": "code",
      "source": [
        "for i in range(0, 10):\n",
        "    print('Iteration: {:04}, LL per word: {:.4}'.format(i, mdl.ll_per_word))\n",
        "    mdl.train(10)\n",
        "print('Iteration: {:04}, LL per word: {:.4}'.format(320, mdl.ll_per_word))"
      ],
      "metadata": {
        "colab": {
          "base_uri": "https://localhost:8080/"
        },
        "id": "-LWUM-2QE6Mq",
        "outputId": "04e2f8eb-04cb-4267-efa5-8443b4b9bb77"
      },
      "execution_count": null,
      "outputs": [
        {
          "output_type": "stream",
          "name": "stdout",
          "text": [
            "Iteration: 0000, LL per word: -9.525\n",
            "Iteration: 0001, LL per word: -8.026\n",
            "Iteration: 0002, LL per word: -7.586\n",
            "Iteration: 0003, LL per word: -7.333\n",
            "Iteration: 0004, LL per word: -7.232\n",
            "Iteration: 0005, LL per word: -7.177\n",
            "Iteration: 0006, LL per word: -7.152\n",
            "Iteration: 0007, LL per word: -7.133\n",
            "Iteration: 0008, LL per word: -7.114\n",
            "Iteration: 0009, LL per word: -7.103\n",
            "Iteration: 0320, LL per word: -7.089\n"
          ]
        }
      ]
    },
    {
      "cell_type": "code",
      "source": [
        "mdl.summary()"
      ],
      "metadata": {
        "colab": {
          "base_uri": "https://localhost:8080/"
        },
        "id": "Yx5QvrNW65kU",
        "outputId": "1d59bc2e-1013-43e5-b318-8f3675cd7e57"
      },
      "execution_count": null,
      "outputs": [
        {
          "output_type": "stream",
          "name": "stdout",
          "text": [
            "<Basic Info>\n",
            "| CTModel (current version: 0.12.4)\n",
            "| 10526 docs, 774348 words\n",
            "| Total Vocabs: 49055, Used Vocabs: 11910\n",
            "| Entropy of words: 8.22156\n",
            "| Entropy of term-weighted words: 8.22156\n",
            "| Removed Vocabs: <NA>\n",
            "|\n",
            "<Training Info>\n",
            "| Iterations: 200, Burn-in steps: 0\n",
            "| Optimization Interval: 2\n",
            "| Log-likelihood per word: -6.91299\n",
            "|\n",
            "<Initial Parameters>\n",
            "| tw: TermWeight.ONE\n",
            "| min_cf: 0 (minimum collection frequency of words)\n",
            "| min_df: 5 (minimum document frequency of words)\n",
            "| rm_top: 0 (the number of top words to be removed)\n",
            "| k: 20 (the number of topics between 1 ~ 32767)\n",
            "| smoothing_alpha: [0.1] (small smoothing value for preventing topic counts to be zero, given as a single `float` in case of symmetric and as a list with length `k` of `float` in case of asymmetric.)\n",
            "| eta: 0.01 (hyperparameter of Dirichlet distribution for topic-word)\n",
            "| seed: 2542195734 (random seed)\n",
            "| trained in version 0.12.4\n",
            "|\n",
            "<Parameters>\n",
            "| prior_mean (Prior mean of Logit-normal for the per-document topic distributions)\n",
            "|  [-4.69542    -4.8408074  -5.3289294  -5.2625566  -4.652503   -5.08236\n",
            "|   -4.833249   -4.6263223  -4.1574116  -5.1856384  -4.4632955  -4.520197\n",
            "|   -2.4201748  -3.0791721  -0.6412355  -0.43611252 -0.5212897  -0.1459098\n",
            "|   -0.02548015  0.05821969]\n",
            "| prior_cov (Prior covariance of Logit-normal for the per-document topic distributions)\n",
            "|  [[ 1.15770988e+01  1.24543607e-01  6.34043068e-02  1.63919166e-01\n",
            "|     1.65766215e+00  9.22822118e-01  1.37552118e+00  4.26977240e-02\n",
            "|    -6.07680380e-02  7.40870759e-02  1.62704006e-01 -2.69775897e-01\n",
            "|    -2.94477075e-01  1.88149661e-01 -1.82097137e-01  4.47400868e-01\n",
            "|    -4.70320314e-01 -4.80277017e-02 -4.39298190e-02 -2.49973666e-02]\n",
            "|   [ 1.24543607e-01  1.21417408e+01  1.79017580e+00  2.06124187e+00\n",
            "|     1.07491159e+00  6.76577628e-01  6.68791413e-01  1.80295610e+00\n",
            "|     1.70964420e+00  1.51652527e+00 -3.20917875e-01 -9.39941168e-01\n",
            "|     1.34933698e+00  1.56372631e+00  3.76829863e-01  3.03321362e-01\n",
            "|     1.16462976e-01  2.47567482e-02  9.02998224e-02 -6.05818490e-03]\n",
            "|   [ 6.34043068e-02  1.79017580e+00  1.15158854e+01  1.44818640e+00\n",
            "|     9.73625243e-01  1.39161205e+00  5.29690981e-01  1.22957587e+00\n",
            "|     1.82888329e+00  1.72678053e+00 -1.03504527e+00  1.03007205e-01\n",
            "|     1.03675389e+00  1.63565958e+00  2.90731847e-01  7.98628330e-02\n",
            "|    -1.65854245e-02 -3.86081859e-02  1.57469809e-02 -2.90319808e-02]\n",
            "|   [ 1.63919166e-01  2.06124187e+00  1.44818640e+00  1.13188715e+01\n",
            "|     1.46913385e+00  1.24224007e+00  1.32531691e+00  1.74101579e+00\n",
            "|     1.48761022e+00  1.89596403e+00 -1.02833956e-01  1.08967580e-01\n",
            "|     9.46424186e-01  1.07649875e+00  1.74178004e-01  1.83808282e-01\n",
            "|     1.73981696e-01  6.56081885e-02  1.02563649e-02 -2.04116050e-02]\n",
            "|   [ 1.65766215e+00  1.07491159e+00  9.73625243e-01  1.46913385e+00\n",
            "|     1.02707586e+01  9.76062715e-01  1.66554046e+00  8.76286566e-01\n",
            "|     1.05012155e+00  8.23950827e-01  6.67407364e-02 -6.20195493e-02\n",
            "|     4.66120780e-01  4.77383792e-01  1.92855578e-02  1.65610984e-01\n",
            "|    -3.36930081e-02 -3.46755795e-02 -9.97612625e-02 -5.46460710e-02]\n",
            "|   [ 9.22822118e-01  6.76577628e-01  1.39161205e+00  1.24224007e+00\n",
            "|     9.76062715e-01  9.88148689e+00  1.13122272e+00  7.48422563e-01\n",
            "|     6.06339991e-01  7.65276849e-01  3.23541433e-01  7.66845107e-01\n",
            "|     2.74204224e-01  3.76202881e-01 -7.28517845e-02  3.20626907e-02\n",
            "|    -9.13719460e-02  1.19655192e-01 -5.34961633e-02 -2.24090889e-02]\n",
            "|   [ 1.37552118e+00  6.68791413e-01  5.29690981e-01  1.32531691e+00\n",
            "|     1.66554046e+00  1.13122272e+00  1.07180433e+01  1.10375023e+00\n",
            "|     7.09721386e-01  7.78712273e-01  4.54172790e-01  2.95969725e-01\n",
            "|     4.73355860e-01  1.33520409e-01 -9.77688059e-02  2.69907117e-01\n",
            "|    -7.14197159e-02  6.46883696e-02 -5.80868162e-02 -4.70565036e-02]\n",
            "|   [ 4.26977240e-02  1.80295610e+00  1.22957587e+00  1.74101579e+00\n",
            "|     8.76286566e-01  7.48422563e-01  1.10375023e+00  1.11667414e+01\n",
            "|     1.40239847e+00  1.70087981e+00  2.97904521e-01  1.50121972e-01\n",
            "|     8.08857203e-01  7.75500953e-01  1.77748322e-01  2.35723332e-01\n",
            "|     9.35567245e-02  1.51836022e-03  5.25773279e-02 -2.12438125e-02]\n",
            "|   [-6.07680380e-02  1.70964420e+00  1.82888329e+00  1.48761022e+00\n",
            "|     1.05012155e+00  6.06339991e-01  7.09721386e-01  1.40239847e+00\n",
            "|     1.05389891e+01  1.60768545e+00 -2.65088648e-01 -3.71872008e-01\n",
            "|     8.10000598e-01  1.11420655e+00  2.43744746e-01  1.72862470e-01\n",
            "|     7.58789927e-02 -4.67001833e-02 -4.44607949e-03 -2.81905662e-02]\n",
            "|   [ 7.40870759e-02  1.51652527e+00  1.72678053e+00  1.89596403e+00\n",
            "|     8.23950827e-01  7.65276849e-01  7.78712273e-01  1.70087981e+00\n",
            "|     1.60768545e+00  1.19480095e+01 -1.20796812e+00 -1.15145445e+00\n",
            "|     1.20424163e+00  2.12953472e+00  3.37684482e-01  2.63257444e-01\n",
            "|    -1.85578302e-01 -1.44522011e-01 -3.39306844e-03 -3.33509520e-02]\n",
            "|   [ 1.62704006e-01 -3.20917875e-01 -1.03504527e+00 -1.02833956e-01\n",
            "|     6.67407364e-02  3.23541433e-01  4.54172790e-01  2.97904521e-01\n",
            "|    -2.65088648e-01 -1.20796812e+00  1.25356178e+01  2.88129520e+00\n",
            "|    -1.26130915e+00 -3.64711547e+00 -4.20567960e-01 -2.34068483e-01\n",
            "|     7.04889476e-01  4.31391209e-01 -2.89033893e-02 -4.30729706e-03]\n",
            "|   [-2.69775897e-01 -9.39941168e-01  1.03007205e-01  1.08967580e-01\n",
            "|    -6.20195493e-02  7.66845107e-01  2.95969725e-01  1.50121972e-01\n",
            "|    -3.71872008e-01 -1.15145445e+00  2.88129520e+00  1.26265850e+01\n",
            "|    -1.63119292e+00 -3.94303989e+00 -4.78063971e-01 -5.66888571e-01\n",
            "|     7.16040313e-01  4.08112109e-01 -8.77975151e-02  2.50989571e-02]\n",
            "|   [-2.94477075e-01  1.34933698e+00  1.03675389e+00  9.46424186e-01\n",
            "|     4.66120780e-01  2.74204224e-01  4.73355860e-01  8.08857203e-01\n",
            "|     8.10000598e-01  1.20424163e+00 -1.26130915e+00 -1.63119292e+00\n",
            "|     6.97568274e+00  2.04064751e+00  3.42192113e-01  2.39051118e-01\n",
            "|    -2.51679093e-01 -1.38419330e-01  7.79321566e-02 -5.93760458e-04]\n",
            "|   [ 1.88149661e-01  1.56372631e+00  1.63565958e+00  1.07649875e+00\n",
            "|     4.77383792e-01  3.76202881e-01  1.33520409e-01  7.75500953e-01\n",
            "|     1.11420655e+00  2.12953472e+00 -3.64711547e+00 -3.94303989e+00\n",
            "|     2.04064751e+00  9.42425442e+00  5.22152662e-01  3.11169833e-01\n",
            "|    -6.74463332e-01 -4.72968608e-01  8.93074647e-02  8.83530825e-03]\n",
            "|   [-1.82097137e-01  3.76829863e-01  2.90731847e-01  1.74178004e-01\n",
            "|     1.92855578e-02 -7.28517845e-02 -9.77688059e-02  1.77748322e-01\n",
            "|     2.43744746e-01  3.37684482e-01 -4.20567960e-01 -4.78063971e-01\n",
            "|     3.42192113e-01  5.22152662e-01  1.79322457e+00  1.30383357e-01\n",
            "|     4.39429246e-02  1.48153305e-02  9.99928787e-02  2.62244027e-02]\n",
            "|   [ 4.47400868e-01  3.03321362e-01  7.98628330e-02  1.83808282e-01\n",
            "|     1.65610984e-01  3.20626907e-02  2.69907117e-01  2.35723332e-01\n",
            "|     1.72862470e-01  2.63257444e-01 -2.34068483e-01 -5.66888571e-01\n",
            "|     2.39051118e-01  3.11169833e-01  1.30383357e-01  7.32862711e-01\n",
            "|    -3.81839164e-02 -3.48673272e-03  3.04552466e-02 -5.36906254e-03]\n",
            "|   [-4.70320314e-01  1.16462976e-01 -1.65854245e-02  1.73981696e-01\n",
            "|    -3.36930081e-02 -9.13719460e-02 -7.14197159e-02  9.35567245e-02\n",
            "|     7.58789927e-02 -1.85578302e-01  7.04889476e-01  7.16040313e-01\n",
            "|    -2.51679093e-01 -6.74463332e-01  4.39429246e-02 -3.81839164e-02\n",
            "|     1.04934657e+00  1.00579321e-01  1.16267866e-02  8.26809090e-03]\n",
            "|   [-4.80277017e-02  2.47567482e-02 -3.86081859e-02  6.56081885e-02\n",
            "|    -3.46755795e-02  1.19655192e-01  6.46883696e-02  1.51836022e-03\n",
            "|    -4.67001833e-02 -1.44522011e-01  4.31391209e-01  4.08112109e-01\n",
            "|    -1.38419330e-01 -4.72968608e-01  1.48153305e-02 -3.48673272e-03\n",
            "|     1.00579321e-01  5.00990152e-01  1.75084267e-02  1.01107713e-02]\n",
            "|   [-4.39298190e-02  9.02998224e-02  1.57469809e-02  1.02563649e-02\n",
            "|    -9.97612625e-02 -5.34961633e-02 -5.80868162e-02  5.25773279e-02\n",
            "|    -4.44607949e-03 -3.39306844e-03 -2.89033893e-02 -8.77975151e-02\n",
            "|     7.79321566e-02  8.93074647e-02  9.99928787e-02  3.04552466e-02\n",
            "|     1.16267866e-02  1.75084267e-02  1.75473139e-01  1.12413662e-02]\n",
            "|   [-2.49973666e-02 -6.05818490e-03 -2.90319808e-02 -2.04116050e-02\n",
            "|    -5.46460710e-02 -2.24090889e-02 -4.70565036e-02 -2.12438125e-02\n",
            "|    -2.81905662e-02 -3.33509520e-02 -4.30729706e-03  2.50989571e-02\n",
            "|    -5.93760458e-04  8.83530825e-03  2.62244027e-02 -5.36906254e-03\n",
            "|     8.26809090e-03  1.01107713e-02  1.12413662e-02  1.50432102e-02]]\n",
            "| eta (Dirichlet prior on the per-topic word distribution)\n",
            "|  0.01\n",
            "|\n",
            "<Topics>\n",
            "| #0 (27084) : game team player play season\n",
            "| #1 (30512) : many number people also thing\n",
            "| #2 (27236) : jesus first also font message\n",
            "| #3 (25485) : russian study child health general\n",
            "| #4 (24975) : april period science division field\n",
            "| #5 (22517) : armenian file image book turkish\n",
            "| #6 (25254) : space national list technology launch\n",
            "| #7 (27627) : encryption security public control house\n",
            "| #8 (30412) : word many state must example\n",
            "| #9 (28053) : right people state government israel\n",
            "| #10 (33454) : drive system data disk chip\n",
            "| #11 (32857) : file window program application version\n",
            "| #12 (40882) : people world group government member\n",
            "| #13 (40593) : people christian believe evidence bible\n",
            "| #14 (55692) : question take time case many\n",
            "| #15 (55276) : year first last second time\n",
            "| #16 (53751) : problem work system help using\n",
            "| #17 (60163) : anyone need please used want\n",
            "| #18 (65423) : thing much well really something\n",
            "| #19 (67102) : good also come sure give\n",
            "|\n",
            "\n"
          ]
        }
      ]
    },
    {
      "cell_type": "code",
      "source": [
        "from tabulate import tabulate\n",
        "\n",
        "topic_data = [\n",
        "    [\"Labels for topic 8: \", \"words: \", \"Likelihood of the word to the topic:\"],\n",
        "    [],\n",
        "    [\"representative\", \"people\", \"0.024152597412467003\"],\n",
        "    [\"february\", \"state\", \"0.015195026993751526\"],\n",
        "    [\"congressional\", \"government\", \"0.01433244626969099\"],\n",
        "    [\"united\", \"right\", \"0.010318126529455185\"],\n",
        "    [\"united state\", \"general\", \"0.00962142739444971\"],\n",
        "    [\"meeting\", \"example\", \"0.009555074386298656\"],\n",
        "    [\"\", \"world\", \"0.0087588457390666\"],\n",
        "    [\"\", \"history\", \"0.008261202834546566\"],\n",
        "    [\"\", \"public\", \"0.008062145672738552\"],\n",
        "    [\"\", \"firearm\", \"0.007929440587759018\"]\n",
        "]\n",
        "\n",
        "\n",
        "\n",
        "table = tabulate(topic_data, headers = [], tablefmt=\"fancy_outline\")\n",
        "\n",
        "# Print the table\n",
        "print(table)"
      ],
      "metadata": {
        "colab": {
          "base_uri": "https://localhost:8080/"
        },
        "id": "hOO4DLF7UPgR",
        "outputId": "360d50eb-4233-4e75-a5d1-8aedd87cd5bc"
      },
      "execution_count": null,
      "outputs": [
        {
          "output_type": "stream",
          "name": "stdout",
          "text": [
            "╒═════════════════════╤════════════╤══════════════════════════════════════╕\n",
            "│ Labels for topic 8: │ words:     │ Likelihood of the word to the topic: │\n",
            "│                     │            │                                      │\n",
            "│ representative      │ people     │ 0.024152597412467003                 │\n",
            "│ february            │ state      │ 0.015195026993751526                 │\n",
            "│ congressional       │ government │ 0.01433244626969099                  │\n",
            "│ united              │ right      │ 0.010318126529455185                 │\n",
            "│ united state        │ general    │ 0.00962142739444971                  │\n",
            "│ meeting             │ example    │ 0.009555074386298656                 │\n",
            "│                     │ world      │ 0.0087588457390666                   │\n",
            "│                     │ history    │ 0.008261202834546566                 │\n",
            "│                     │ public     │ 0.008062145672738552                 │\n",
            "│                     │ firearm    │ 0.007929440587759018                 │\n",
            "╘═════════════════════╧════════════╧══════════════════════════════════════╛\n"
          ]
        }
      ]
    },
    {
      "cell_type": "code",
      "source": [],
      "metadata": {
        "id": "SxvmQSjnWU8j"
      },
      "execution_count": null,
      "outputs": []
    },
    {
      "cell_type": "code",
      "source": [
        "extractor = tp.label.PMIExtractor( min_cf = 5,min_df =20, max_cand=100)\n",
        "cands = extractor.extract(mdl)\n",
        "labeler = tp.label.FoRelevance(mdl, cands,min_df= 5,smoothing=1e-2)\n",
        "for k in range(mdl.k):\n",
        "    print(\"== Topic #{} ==\".format(k))\n",
        "    print(\"Labels:\", ', '.join(label for label, score in labeler.get_topic_labels(k, top_n=6)))\n",
        "    for word, prob in mdl.get_topic_words(k, top_n=10):\n",
        "        print(word, prob, sep='\\t')\n",
        "    print()"
      ],
      "metadata": {
        "colab": {
          "base_uri": "https://localhost:8080/"
        },
        "id": "wSy_a_xFQ2O8",
        "outputId": "880bad95-e29b-4103-d9e5-1c301d20685c"
      },
      "execution_count": null,
      "outputs": [
        {
          "output_type": "stream",
          "name": "stdout",
          "text": [
            "== Topic #0 ==\n",
            "Labels: frequently asked question, consult, frequently asked, readme, listing, containing\n",
            "also\t0.018434910103678703\n",
            "list\t0.01352489273995161\n",
            "name\t0.012143030762672424\n",
            "good\t0.012084228917956352\n",
            "read\t0.011231590993702412\n",
            "question\t0.010761169716715813\n",
            "called\t0.009555716998875141\n",
            "another\t0.00952631514519453\n",
            "find\t0.009232302196323872\n",
            "group\t0.009232302196323872\n",
            "\n",
            "== Topic #1 ==\n",
            "Labels: filename, graphical, readme, interactive, also available anonymous, distributed\n",
            "system\t0.03799757361412048\n",
            "file\t0.031448956578969955\n",
            "data\t0.02825079672038555\n",
            "available\t0.026842083781957626\n",
            "software\t0.02337741106748581\n",
            "program\t0.020978789776563644\n",
            "version\t0.020369617268443108\n",
            "code\t0.01968429610133171\n",
            "information\t0.01530586276203394\n",
            "list\t0.014087515883147717\n",
            "\n",
            "== Topic #2 ==\n",
            "Labels: consult, examined, february, union, remained, foundation\n",
            "made\t0.010924414731562138\n",
            "people\t0.01079319417476654\n",
            "right\t0.010760389268398285\n",
            "well\t0.008923305198550224\n",
            "power\t0.008660865016281605\n",
            "time\t0.008300009183585644\n",
            "using\t0.00803756806999445\n",
            "never\t0.007512687239795923\n",
            "many\t0.007250246591866016\n",
            "first\t0.007151831407099962\n",
            "\n",
            "== Topic #3 ==\n",
            "Labels: international, republic, march, document, cambridge, region\n",
            "armenian\t0.04371361434459686\n",
            "turkish\t0.01884584128856659\n",
            "anonymous\t0.013233180157840252\n",
            "service\t0.013151243329048157\n",
            "national\t0.012086066417396069\n",
            "greek\t0.011799288913607597\n",
            "university\t0.011717352084815502\n",
            "information\t0.011020890437066555\n",
            "russian\t0.010201523080468178\n",
            "turkey\t0.009382156655192375\n",
            "\n",
            "== Topic #4 ==\n",
            "Labels: bruce, pushed, victory, confirmed, outstanding, seven\n",
            "year\t0.027005795389413834\n",
            "number\t0.011822017841041088\n",
            "last\t0.011207436211407185\n",
            "still\t0.011171284131705761\n",
            "next\t0.009291388094425201\n",
            "center\t0.00918293185532093\n",
            "rule\t0.008532198145985603\n",
            "goal\t0.00817068014293909\n",
            "shot\t0.007845313288271427\n",
            "home\t0.007809161674231291\n",
            "\n",
            "== Topic #5 ==\n",
            "Labels: also available anonymous, automated, distributed, electronically, anonymous, containing\n",
            "encryption\t0.020791850984096527\n",
            "chip\t0.016085805371403694\n",
            "number\t0.015545766800642014\n",
            "technology\t0.014157097786664963\n",
            "clipper\t0.01338561438024044\n",
            "system\t0.012999873608350754\n",
            "phone\t0.012884151190519333\n",
            "privacy\t0.012845576740801334\n",
            "algorithm\t0.01242126151919365\n",
            "internet\t0.011649778112769127\n",
            "\n",
            "== Topic #6 ==\n",
            "Labels: maple leaf, tampa, canuck, kansa city, winnipeg, goaltender\n",
            "game\t0.03963148966431618\n",
            "team\t0.03219158202409744\n",
            "year\t0.01727546937763691\n",
            "season\t0.015569734387099743\n",
            "player\t0.015279396437108517\n",
            "april\t0.014081752859055996\n",
            "league\t0.012738939374685287\n",
            "stephanopoulos\t0.012521185912191868\n",
            "hockey\t0.012376016937196255\n",
            "play\t0.011940510012209415\n",
            "\n",
            "== Topic #7 ==\n",
            "Labels: graphical, filename, interactive, athena, toolkit, readme\n",
            "file\t0.05691352114081383\n",
            "program\t0.037298984825611115\n",
            "image\t0.026716100051999092\n",
            "window\t0.026130076497793198\n",
            "server\t0.019683824852108955\n",
            "application\t0.017098428681492805\n",
            "package\t0.0158919095993042\n",
            "widget\t0.012134469114243984\n",
            "space\t0.011134781874716282\n",
            "function\t0.010790063068270683\n",
            "\n",
            "== Topic #8 ==\n",
            "Labels: representative, february, congressional, united, united state, meeting\n",
            "people\t0.024152597412467003\n",
            "state\t0.015195026993751526\n",
            "government\t0.01433244626969099\n",
            "right\t0.010318126529455185\n",
            "general\t0.00962142739444971\n",
            "example\t0.009555074386298656\n",
            "world\t0.0087588457390666\n",
            "history\t0.008261202834546566\n",
            "public\t0.008062145672738552\n",
            "firearm\t0.007929440587759018\n",
            "\n",
            "== Topic #9 ==\n",
            "Labels: examined, ethical, ruler, absence, consult, certainty\n",
            "people\t0.019998379051685333\n",
            "jesus\t0.015568229369819164\n",
            "believe\t0.012230019085109234\n",
            "even\t0.01141886506229639\n",
            "many\t0.011075683869421482\n",
            "argument\t0.010919692926108837\n",
            "thing\t0.010514115914702415\n",
            "come\t0.009734160266816616\n",
            "mean\t0.009328583255410194\n",
            "life\t0.008517429232597351\n",
            "\n",
            "== Topic #10 ==\n",
            "Labels: examined, published, investigator, contrast, february, confirmed\n",
            "time\t0.010405847802758217\n",
            "research\t0.010405847802758217\n",
            "space\t0.009998401626944542\n",
            "food\t0.009590956382453442\n",
            "science\t0.009496930055320263\n",
            "three\t0.008650696836411953\n",
            "health\t0.007522386033087969\n",
            "scientific\t0.007397017907351255\n",
            "subject\t0.0070835985243320465\n",
            "force\t0.006864204537123442\n",
            "\n",
            "== Topic #11 ==\n",
            "Labels: persecution, enemy, holy, nation, buried, religious\n",
            "christian\t0.024953113868832588\n",
            "israel\t0.016869815066456795\n",
            "church\t0.01543207373470068\n",
            "bible\t0.015208425000309944\n",
            "faith\t0.01290803961455822\n",
            "israeli\t0.012716340832412243\n",
            "christ\t0.0117258969694376\n",
            "religion\t0.01003255695104599\n",
            "woman\t0.01003255695104599\n",
            "attack\t0.009617209434509277\n",
            "\n",
            "== Topic #12 ==\n",
            "Labels: foundation, consult, examined, divided, absence, logically\n",
            "point\t0.01358503382652998\n",
            "must\t0.01300471369177103\n",
            "book\t0.01121099665760994\n",
            "believe\t0.010683432221412659\n",
            "word\t0.010446028783917427\n",
            "people\t0.009707439690828323\n",
            "jesus\t0.009681060910224915\n",
            "statement\t0.009681060910224915\n",
            "part\t0.008836958557367325\n",
            "rate\t0.008124747313559055\n",
            "\n",
            "== Topic #13 ==\n",
            "Labels: district, february, tragedy, united state, meeting, officer\n",
            "people\t0.027016259729862213\n",
            "state\t0.019849857315421104\n",
            "government\t0.018119102343916893\n",
            "country\t0.012629366479814053\n",
            "right\t0.011493559926748276\n",
            "police\t0.010141408070921898\n",
            "drug\t0.010006193071603775\n",
            "person\t0.009654633700847626\n",
            "united\t0.009276030585169792\n",
            "court\t0.009276030585169792\n",
            "\n",
            "== Topic #14 ==\n",
            "Labels: consult, frequently asked question, hiding, examined, frequently asked, identified\n",
            "point\t0.020259369164705276\n",
            "even\t0.012850683182477951\n",
            "first\t0.011233448050916195\n",
            "time\t0.008916867896914482\n",
            "group\t0.008457922376692295\n",
            "since\t0.008348649367690086\n",
            "black\t0.00832679495215416\n",
            "reason\t0.008042686618864536\n",
            "face\t0.007780431769788265\n",
            "night\t0.007212214171886444\n",
            "\n",
            "== Topic #15 ==\n",
            "Labels: frequently asked question, consult, frequently asked, initially, earn, identified\n",
            "much\t0.022584348917007446\n",
            "year\t0.01523498073220253\n",
            "power\t0.01431847084313631\n",
            "time\t0.014266593381762505\n",
            "enough\t0.01302152406424284\n",
            "little\t0.01046221423894167\n",
            "cost\t0.010081776417791843\n",
            "really\t0.009753216989338398\n",
            "first\t0.009217144921422005\n",
            "local\t0.008836707100272179\n",
            "\n",
            "== Topic #16 ==\n",
            "Labels: bundled, beta, compatibility, enhancement, graphical, editing\n",
            "drive\t0.029564352706074715\n",
            "using\t0.02450569160282612\n",
            "card\t0.021603180095553398\n",
            "window\t0.021437322720885277\n",
            "computer\t0.017954310402274132\n",
            "machine\t0.01546644326299429\n",
            "email\t0.015176192857325077\n",
            "driver\t0.01496887020766735\n",
            "system\t0.013662740588188171\n",
            "color\t0.012937112711369991\n",
            "\n",
            "== Topic #17 ==\n",
            "Labels: consult, frequently asked question, frequently asked, hierarchy, identified, freely\n",
            "good\t0.022038904950022697\n",
            "also\t0.02006528526544571\n",
            "want\t0.019501393660902977\n",
            "well\t0.015240883454680443\n",
            "probably\t0.015225219540297985\n",
            "better\t0.014849292114377022\n",
            "since\t0.014489028602838516\n",
            "back\t0.01442637387663126\n",
            "help\t0.013016645796597004\n",
            "around\t0.012390099465847015\n",
            "\n",
            "== Topic #18 ==\n",
            "Labels: consult, frequently asked question, frequently asked, hierarchy, revision, readme\n",
            "anyone\t0.023387042805552483\n",
            "problem\t0.022715862840414047\n",
            "find\t0.01405018288642168\n",
            "please\t0.012812228873372078\n",
            "need\t0.012767483480274677\n",
            "hard\t0.01160410512238741\n",
            "best\t0.011201397515833378\n",
            "anything\t0.011037331074476242\n",
            "post\t0.01066445279866457\n",
            "idea\t0.010336320847272873\n",
            "\n",
            "== Topic #19 ==\n",
            "Labels: consult, frequently asked question, frequently asked, hierarchy, examined, contributed\n",
            "still\t0.015449726022779942\n",
            "question\t0.013827300630509853\n",
            "right\t0.013827300630509853\n",
            "might\t0.013812684454023838\n",
            "someone\t0.013374190777540207\n",
            "seems\t0.012073327787220478\n",
            "look\t0.011678683571517467\n",
            "time\t0.011517902836203575\n",
            "also\t0.011327888816595078\n",
            "never\t0.011064792983233929\n",
            "\n"
          ]
        }
      ]
    },
    {
      "cell_type": "code",
      "source": [
        "mdl.extract"
      ],
      "metadata": {
        "colab": {
          "base_uri": "https://localhost:8080/",
          "height": 204
        },
        "id": "Oiax85q9Wtph",
        "outputId": "e9b0af32-6fb2-4c39-c93b-fc170da9dae3"
      },
      "execution_count": null,
      "outputs": [
        {
          "output_type": "error",
          "ename": "AttributeError",
          "evalue": "ignored",
          "traceback": [
            "\u001b[0;31m---------------------------------------------------------------------------\u001b[0m",
            "\u001b[0;31mAttributeError\u001b[0m                            Traceback (most recent call last)",
            "\u001b[0;32m<ipython-input-57-cab54c897d37>\u001b[0m in \u001b[0;36m<cell line: 1>\u001b[0;34m()\u001b[0m\n\u001b[0;32m----> 1\u001b[0;31m \u001b[0mmdl\u001b[0m\u001b[0;34m.\u001b[0m\u001b[0mextract\u001b[0m\u001b[0;34m\u001b[0m\u001b[0;34m\u001b[0m\u001b[0m\n\u001b[0m",
            "\u001b[0;31mAttributeError\u001b[0m: 'tomotopy.CTModel' object has no attribute 'extract'"
          ]
        }
      ]
    },
    {
      "cell_type": "code",
      "source": [
        "mdl.get_correlations(topic_id=8)"
      ],
      "metadata": {
        "id": "5AJCLq_V5Xkk"
      },
      "execution_count": null,
      "outputs": []
    },
    {
      "cell_type": "code",
      "source": [
        "import seaborn as sns\n",
        "\n",
        "f, ax = plt.subplots(figsize=(10, 8))\n",
        "corr =  mdl.get_correlations()\n",
        "sns.heatmap(corr, mask=np.zeros_like(corr, dtype=bool), cmap=sns.diverging_palette(220, 10, as_cmap=True),\n",
        "            square=True, ax=ax)"
      ],
      "metadata": {
        "colab": {
          "base_uri": "https://localhost:8080/",
          "height": 700
        },
        "id": "ua_5XqsAs0Hf",
        "outputId": "ae44a5b2-e66b-4b64-82e7-0dbb98295ee9"
      },
      "execution_count": null,
      "outputs": [
        {
          "output_type": "execute_result",
          "data": {
            "text/plain": [
              "<Axes: >"
            ]
          },
          "metadata": {},
          "execution_count": 48
        },
        {
          "output_type": "display_data",
          "data": {
            "text/plain": [
              "<Figure size 1000x800 with 2 Axes>"
            ],
            "image/png": "[encoded data removed]"
          },
          "metadata": {}
        }
      ]
    },
    {
      "cell_type": "markdown",
      "source": [
        "# Hierarchial LDA"
      ],
      "metadata": {
        "id": "pbfHbUg5_ALP"
      }
    },
    {
      "cell_type": "code",
      "source": [
        "from pyvis.network import Network"
      ],
      "metadata": {
        "id": "62w8l84eFZWn"
      },
      "execution_count": null,
      "outputs": []
    },
    {
      "cell_type": "code",
      "source": [
        "from nltk.tokenize import RegexpTokenizer\n",
        "from gensim import corpora\n",
        "from gensim.models import HdpModel"
      ],
      "metadata": {
        "id": "KGvtlxt5j6sN"
      },
      "execution_count": null,
      "outputs": []
    },
    {
      "cell_type": "code",
      "source": [
        "\n",
        "def remove_stopwords(documents):\n",
        "    stop_words = set(stopwords_list)\n",
        "    cleaned_documents = []\n",
        "\n",
        "    for doc in documents:\n",
        "        # Tokenize the document into words\n",
        "        words = nltk.word_tokenize(doc)\n",
        "\n",
        "        # Remove stopwords and words not complying with the pattern\n",
        "        cleaned_words = [word for word in words if word.lower() not in stop_words and re.match(r'\\b[a-zA-Z]{4,}\\b', word)]\n",
        "\n",
        "        # Join the cleaned words back into a document\n",
        "        cleaned_doc = ' '.join(cleaned_words)\n",
        "\n",
        "        cleaned_documents.append(cleaned_doc)\n",
        "\n",
        "    return cleaned_documents\n",
        "\n",
        "# Example usage:\n",
        "hdldocuments = remove_stopwords(cleaned_documents)\n"
      ],
      "metadata": {
        "id": "ICqrinMhn7Yc"
      },
      "execution_count": null,
      "outputs": []
    },
    {
      "cell_type": "code",
      "source": [
        "from gensim.models import LdaModel"
      ],
      "metadata": {
        "id": "u2fFnQmQqWE4"
      },
      "execution_count": null,
      "outputs": []
    },
    {
      "cell_type": "code",
      "source": [
        "#hdl_tokenized_documents = [doc.split() for doc in lemmatized_documents]\n",
        "dictionary = corpora.Dictionary(lemmatized_documents)\n",
        "corpus2 = [dictionary.doc2bow(doc) for doc in lemmatized_documents]"
      ],
      "metadata": {
        "id": "zuDa3P_Lj7k9"
      },
      "execution_count": null,
      "outputs": []
    },
    {
      "cell_type": "code",
      "source": [
        "hdp_model = HdpModel(corpus=corpus2, id2word=dictionary)\n"
      ],
      "metadata": {
        "id": "Ct847CZEudBD",
        "colab": {
          "base_uri": "https://localhost:8080/"
        },
        "outputId": "6bd772cd-341b-4b60-e31f-41a76a42ab1e"
      },
      "execution_count": null,
      "outputs": [
        {
          "output_type": "stream",
          "name": "stderr",
          "text": [
            "WARNING:gensim.models.hdpmodel:likelihood is decreasing!\n",
            "WARNING:gensim.models.hdpmodel:likelihood is decreasing!\n",
            "WARNING:gensim.models.hdpmodel:likelihood is decreasing!\n",
            "WARNING:gensim.models.hdpmodel:likelihood is decreasing!\n",
            "WARNING:gensim.models.hdpmodel:likelihood is decreasing!\n",
            "WARNING:gensim.models.hdpmodel:likelihood is decreasing!\n",
            "WARNING:gensim.models.hdpmodel:likelihood is decreasing!\n",
            "WARNING:gensim.models.hdpmodel:likelihood is decreasing!\n",
            "WARNING:gensim.models.hdpmodel:likelihood is decreasing!\n",
            "WARNING:gensim.models.hdpmodel:likelihood is decreasing!\n",
            "WARNING:gensim.models.hdpmodel:likelihood is decreasing!\n",
            "WARNING:gensim.models.hdpmodel:likelihood is decreasing!\n",
            "WARNING:gensim.models.hdpmodel:likelihood is decreasing!\n",
            "WARNING:gensim.models.hdpmodel:likelihood is decreasing!\n",
            "WARNING:gensim.models.hdpmodel:likelihood is decreasing!\n",
            "WARNING:gensim.models.hdpmodel:likelihood is decreasing!\n"
          ]
        }
      ]
    },
    {
      "cell_type": "code",
      "source": [
        "dictionary = corpora.Dictionary(lemmatized_documents)\n",
        "corpus2 = [dictionary.doc2bow(doc) for doc in lemmatized_documents]\n",
        "\n",
        "\n",
        "hdp_model = HdpModel(corpus=corpus, id2word=dictionary)\n"
      ],
      "metadata": {
        "colab": {
          "base_uri": "https://localhost:8080/",
          "height": 371
        },
        "id": "lRa8a8A0T2BY",
        "outputId": "08428855-7d76-40ef-f179-0682957dabc9"
      },
      "execution_count": null,
      "outputs": [
        {
          "output_type": "error",
          "ename": "ValueError",
          "evalue": "ignored",
          "traceback": [
            "\u001b[0;31m---------------------------------------------------------------------------\u001b[0m",
            "\u001b[0;31mValueError\u001b[0m                                Traceback (most recent call last)",
            "\u001b[0;32m<ipython-input-54-60257ad8d4b3>\u001b[0m in \u001b[0;36m<cell line: 1>\u001b[0;34m()\u001b[0m\n\u001b[0;32m----> 1\u001b[0;31m \u001b[0mhdp_model\u001b[0m \u001b[0;34m=\u001b[0m \u001b[0mHdpModel\u001b[0m\u001b[0;34m(\u001b[0m\u001b[0mcorpus\u001b[0m\u001b[0;34m=\u001b[0m\u001b[0mcorpus\u001b[0m\u001b[0;34m,\u001b[0m \u001b[0mid2word\u001b[0m\u001b[0;34m=\u001b[0m\u001b[0mdictionary\u001b[0m\u001b[0;34m)\u001b[0m\u001b[0;34m\u001b[0m\u001b[0;34m\u001b[0m\u001b[0m\n\u001b[0m",
            "\u001b[0;32m/usr/local/lib/python3.10/dist-packages/gensim/models/hdpmodel.py\u001b[0m in \u001b[0;36m__init__\u001b[0;34m(self, corpus, id2word, max_chunks, max_time, chunksize, kappa, tau, K, T, alpha, gamma, eta, scale, var_converge, outputdir, random_state)\u001b[0m\n\u001b[1;32m    387\u001b[0m         \u001b[0;31m# if a training corpus was provided, start estimating the model right away\u001b[0m\u001b[0;34m\u001b[0m\u001b[0;34m\u001b[0m\u001b[0m\n\u001b[1;32m    388\u001b[0m         \u001b[0;32mif\u001b[0m \u001b[0mcorpus\u001b[0m \u001b[0;32mis\u001b[0m \u001b[0;32mnot\u001b[0m \u001b[0;32mNone\u001b[0m\u001b[0;34m:\u001b[0m\u001b[0;34m\u001b[0m\u001b[0;34m\u001b[0m\u001b[0m\n\u001b[0;32m--> 389\u001b[0;31m             \u001b[0mself\u001b[0m\u001b[0;34m.\u001b[0m\u001b[0mupdate\u001b[0m\u001b[0;34m(\u001b[0m\u001b[0mcorpus\u001b[0m\u001b[0;34m)\u001b[0m\u001b[0;34m\u001b[0m\u001b[0;34m\u001b[0m\u001b[0m\n\u001b[0m\u001b[1;32m    390\u001b[0m \u001b[0;34m\u001b[0m\u001b[0m\n\u001b[1;32m    391\u001b[0m     \u001b[0;32mdef\u001b[0m \u001b[0minference\u001b[0m\u001b[0;34m(\u001b[0m\u001b[0mself\u001b[0m\u001b[0;34m,\u001b[0m \u001b[0mchunk\u001b[0m\u001b[0;34m)\u001b[0m\u001b[0;34m:\u001b[0m\u001b[0;34m\u001b[0m\u001b[0;34m\u001b[0m\u001b[0m\n",
            "\u001b[0;32m/usr/local/lib/python3.10/dist-packages/gensim/models/hdpmodel.py\u001b[0m in \u001b[0;36mupdate\u001b[0;34m(self, corpus)\u001b[0m\n\u001b[1;32m    467\u001b[0m         \u001b[0;32mwhile\u001b[0m \u001b[0;32mTrue\u001b[0m\u001b[0;34m:\u001b[0m\u001b[0;34m\u001b[0m\u001b[0;34m\u001b[0m\u001b[0m\n\u001b[1;32m    468\u001b[0m             \u001b[0;32mfor\u001b[0m \u001b[0mchunk\u001b[0m \u001b[0;32min\u001b[0m \u001b[0mutils\u001b[0m\u001b[0;34m.\u001b[0m\u001b[0mgrouper\u001b[0m\u001b[0;34m(\u001b[0m\u001b[0mcorpus\u001b[0m\u001b[0;34m,\u001b[0m \u001b[0mself\u001b[0m\u001b[0;34m.\u001b[0m\u001b[0mchunksize\u001b[0m\u001b[0;34m)\u001b[0m\u001b[0;34m:\u001b[0m\u001b[0;34m\u001b[0m\u001b[0;34m\u001b[0m\u001b[0m\n\u001b[0;32m--> 469\u001b[0;31m                 \u001b[0mself\u001b[0m\u001b[0;34m.\u001b[0m\u001b[0mupdate_chunk\u001b[0m\u001b[0;34m(\u001b[0m\u001b[0mchunk\u001b[0m\u001b[0;34m)\u001b[0m\u001b[0;34m\u001b[0m\u001b[0;34m\u001b[0m\u001b[0m\n\u001b[0m\u001b[1;32m    470\u001b[0m                 \u001b[0mself\u001b[0m\u001b[0;34m.\u001b[0m\u001b[0mm_num_docs_processed\u001b[0m \u001b[0;34m+=\u001b[0m \u001b[0mlen\u001b[0m\u001b[0;34m(\u001b[0m\u001b[0mchunk\u001b[0m\u001b[0;34m)\u001b[0m\u001b[0;34m\u001b[0m\u001b[0;34m\u001b[0m\u001b[0m\n\u001b[1;32m    471\u001b[0m                 \u001b[0mchunks_processed\u001b[0m \u001b[0;34m+=\u001b[0m \u001b[0;36m1\u001b[0m\u001b[0;34m\u001b[0m\u001b[0;34m\u001b[0m\u001b[0m\n",
            "\u001b[0;32m/usr/local/lib/python3.10/dist-packages/gensim/models/hdpmodel.py\u001b[0m in \u001b[0;36mupdate_chunk\u001b[0;34m(self, chunk, update, opt_o)\u001b[0m\n\u001b[1;32m    540\u001b[0m         \u001b[0mword_list\u001b[0m \u001b[0;34m=\u001b[0m \u001b[0;34m[\u001b[0m\u001b[0;34m]\u001b[0m\u001b[0;34m\u001b[0m\u001b[0;34m\u001b[0m\u001b[0m\n\u001b[1;32m    541\u001b[0m         \u001b[0;32mfor\u001b[0m \u001b[0mdoc\u001b[0m \u001b[0;32min\u001b[0m \u001b[0mchunk\u001b[0m\u001b[0;34m:\u001b[0m\u001b[0;34m\u001b[0m\u001b[0;34m\u001b[0m\u001b[0m\n\u001b[0;32m--> 542\u001b[0;31m             \u001b[0;32mfor\u001b[0m \u001b[0mword_id\u001b[0m\u001b[0;34m,\u001b[0m \u001b[0m_\u001b[0m \u001b[0;32min\u001b[0m \u001b[0mdoc\u001b[0m\u001b[0;34m:\u001b[0m\u001b[0;34m\u001b[0m\u001b[0;34m\u001b[0m\u001b[0m\n\u001b[0m\u001b[1;32m    543\u001b[0m                 \u001b[0;32mif\u001b[0m \u001b[0mword_id\u001b[0m \u001b[0;32mnot\u001b[0m \u001b[0;32min\u001b[0m \u001b[0munique_words\u001b[0m\u001b[0;34m:\u001b[0m\u001b[0;34m\u001b[0m\u001b[0;34m\u001b[0m\u001b[0m\n\u001b[1;32m    544\u001b[0m                     \u001b[0munique_words\u001b[0m\u001b[0;34m[\u001b[0m\u001b[0mword_id\u001b[0m\u001b[0;34m]\u001b[0m \u001b[0;34m=\u001b[0m \u001b[0mlen\u001b[0m\u001b[0;34m(\u001b[0m\u001b[0munique_words\u001b[0m\u001b[0;34m)\u001b[0m\u001b[0;34m\u001b[0m\u001b[0;34m\u001b[0m\u001b[0m\n",
            "\u001b[0;31mValueError\u001b[0m: too many values to unpack (expected 2)"
          ]
        }
      ]
    },
    {
      "cell_type": "code",
      "source": [
        "topics = hdp_model.show_topics(num_words = 5)\n",
        "for topic in topics:\n",
        "    print(topic)"
      ],
      "metadata": {
        "id": "N8P-MtHjvS3E",
        "colab": {
          "base_uri": "https://localhost:8080/"
        },
        "outputId": "8202c076-5745-4884-9698-743c94b91813"
      },
      "execution_count": null,
      "outputs": [
        {
          "output_type": "stream",
          "name": "stdout",
          "text": [
            "(0, '0.004*people + 0.004*time + 0.003*also + 0.003*year + 0.003*system')\n",
            "(1, '0.006*armenian + 0.004*turkish + 0.004*window + 0.004*drive + 0.003*people')\n",
            "(2, '0.004*people + 0.003*good + 0.003*also + 0.002*right + 0.002*time')\n",
            "(3, '0.003*anyone + 0.003*system + 0.002*really + 0.002*people + 0.002*work')\n",
            "(4, '0.003*people + 0.003*right + 0.002*well + 0.002*militia + 0.002*time')\n",
            "(5, '0.002*please + 0.002*number + 0.002*also + 0.002*year + 0.001*game')\n",
            "(6, '0.004*nrhj + 0.003*tq,3 + 0.003*b8e,3 + 0.002*1d9l+ + 0.002*b4q,3')\n",
            "(7, \"0.002*'ax= + 0.002*b4q,3 + 0.002*r'ax + 0.002*mb8f + 0.001*tq,3\")\n",
            "(8, '0.001*=w7= + 0.001*mx^- + 0.001*t4\\\\/ + 0.000*zrlk + 0.000*bn/c')\n",
            "(9, '0.003*people + 0.002*scsi-1 + 0.002*problem + 0.002*scsi-2 + 0.002*jesus')\n",
            "(10, '0.003*health + 0.003*tobacco + 0.002*smokeless + 0.002*1993 + 0.002*people')\n",
            "(11, '0.004*period + 0.002*power + 0.002*play + 0.002*shot + 0.001*scorer')\n",
            "(12, '0.000*window + 0.000*battery + 0.000*want + 0.000*memory + 0.000*idea')\n",
            "(13, '0.000*mp+m + 0.000*m5ha + 0.000*mitchell + 0.000*ws^_ + 0.000*54=\\\\')\n",
            "(14, '0.001*jpwu + 0.001*jpwu45 + 0.000*vmkg + 0.000*z+sk + 0.000*m+sk')\n",
            "(15, '0.003*father + 0.002*spirit + 0.001*university + 0.001*holy + 0.001*year')\n",
            "(16, '0.002*s0g- + 0.001*ma86 + 0.001*s0t- + 0.001*m^_o + 0.001*144e')\n",
            "(17, '0.002*belief + 0.001*system + 0.001*well + 0.001*people + 0.001*believe')\n",
            "(18, '0.001*people + 0.001*want + 0.001*cview + 0.001*good + 0.001*bit')\n",
            "(19, '0.002*shuttle + 0.001*software + 0.001*people + 0.001*thing + 0.001*space')\n"
          ]
        }
      ]
    },
    {
      "cell_type": "code",
      "source": [
        "hdp_model.show_topics()\n",
        "\n",
        "\n"
      ],
      "metadata": {
        "id": "pyiYCRvRvdCX",
        "colab": {
          "base_uri": "https://localhost:8080/",
          "height": 332
        },
        "outputId": "59b532b8-ba70-41ad-badf-5bc2925015a7"
      },
      "execution_count": null,
      "outputs": [
        {
          "output_type": "stream",
          "name": "stdout",
          "text": [
            "Topic ID: 0\n",
            "Top Words:  ['people', 'time', 'also', 'year', 'system', 'good', 'right', 'thing', 'even', 'well', 'problem', 'work', 'file', 'many', 'much', 'first', 'want', 'need', 'question', 'used']\n"
          ]
        },
        {
          "output_type": "error",
          "ename": "AttributeError",
          "evalue": "ignored",
          "traceback": [
            "\u001b[0;31m---------------------------------------------------------------------------\u001b[0m",
            "\u001b[0;31mAttributeError\u001b[0m                            Traceback (most recent call last)",
            "\u001b[0;32m<ipython-input-53-44e38d135ccb>\u001b[0m in \u001b[0;36m<cell line: 5>\u001b[0;34m()\u001b[0m\n\u001b[1;32m      6\u001b[0m     \u001b[0mprint\u001b[0m\u001b[0;34m(\u001b[0m\u001b[0;34mf\"Topic ID: {topic_id}\"\u001b[0m\u001b[0;34m)\u001b[0m\u001b[0;34m\u001b[0m\u001b[0;34m\u001b[0m\u001b[0m\n\u001b[1;32m      7\u001b[0m     \u001b[0mprint\u001b[0m\u001b[0;34m(\u001b[0m\u001b[0;34m\"Top Words: \"\u001b[0m\u001b[0;34m,\u001b[0m \u001b[0;34m[\u001b[0m\u001b[0mword\u001b[0m \u001b[0;32mfor\u001b[0m \u001b[0mword\u001b[0m\u001b[0;34m,\u001b[0m \u001b[0m_\u001b[0m \u001b[0;32min\u001b[0m \u001b[0mtopic\u001b[0m\u001b[0;34m]\u001b[0m\u001b[0;34m)\u001b[0m\u001b[0;34m\u001b[0m\u001b[0;34m\u001b[0m\u001b[0m\n\u001b[0;32m----> 8\u001b[0;31m     \u001b[0msubtopics\u001b[0m \u001b[0;34m=\u001b[0m \u001b[0mhdp_model\u001b[0m\u001b[0;34m.\u001b[0m\u001b[0mget_subtopics\u001b[0m\u001b[0;34m(\u001b[0m\u001b[0mtopic_id\u001b[0m\u001b[0;34m)\u001b[0m\u001b[0;34m\u001b[0m\u001b[0;34m\u001b[0m\u001b[0m\n\u001b[0m\u001b[1;32m      9\u001b[0m     \u001b[0;32mif\u001b[0m \u001b[0msubtopics\u001b[0m\u001b[0;34m:\u001b[0m\u001b[0;34m\u001b[0m\u001b[0;34m\u001b[0m\u001b[0m\n\u001b[1;32m     10\u001b[0m         \u001b[0mprint\u001b[0m\u001b[0;34m(\u001b[0m\u001b[0;34m\"Subtopics: \"\u001b[0m\u001b[0;34m,\u001b[0m \u001b[0msubtopics\u001b[0m\u001b[0;34m)\u001b[0m\u001b[0;34m\u001b[0m\u001b[0;34m\u001b[0m\u001b[0m\n",
            "\u001b[0;31mAttributeError\u001b[0m: 'HdpModel' object has no attribute 'get_subtopics'"
          ]
        }
      ]
    },
    {
      "cell_type": "code",
      "source": [
        "topics = ctm_model.show_topics(num_topics = 20 , num_words = 5)\n",
        "for topic in topics:\n",
        "    print(topic)"
      ],
      "metadata": {
        "id": "MnadJOSSk-ws"
      },
      "execution_count": null,
      "outputs": []
    },
    {
      "cell_type": "code",
      "source": [
        "hdp_model.topic_info()"
      ],
      "metadata": {
        "id": "a173Ie4qqWwW"
      },
      "execution_count": null,
      "outputs": []
    },
    {
      "cell_type": "code",
      "source": [
        "from gensim.models import CtModel\n",
        "\n"
      ],
      "metadata": {
        "id": "VqlkpMW_rxFg"
      },
      "execution_count": null,
      "outputs": []
    },
    {
      "cell_type": "code",
      "source": [
        "import gensim\n",
        "from gensim.corpora import Dictionary\n",
        "from gensim.models import LdaModel\n",
        "from gensim.models import CoherenceModel\n",
        "\n",
        "# Assuming you have preprocessed documents stored in a list called 'preprocessed_documents'\n",
        "# Create a dictionary from the preprocessed documents\n",
        "dictionary = Dictionary(preprocessed_documents)\n",
        "\n",
        "# Create the corpus\n",
        "corpus = [dictionary.doc2bow(doc) for doc in preprocessed_documents]\n",
        "\n",
        "# Set the number of topics\n",
        "num_topics = 10\n",
        "\n",
        "# Train the LDA model with asymmetric topic distributions\n",
        "lda_model = LdaModel(corpus=corpus, id2word=dictionary, num_topics=num_topics, alpha='asymmetric')\n",
        "\n",
        "# Print the topics and their associated words\n",
        "topics = lda_model.show_topics(num_topics=num_topics)\n",
        "for topic in topics:\n",
        "    print(topic)\n",
        "\n",
        "# Calculate the coherence score to evaluate the quality of the topics\n",
        "coherence_model = CoherenceModel(model=lda_model, texts=preprocessed_documents, dictionary=dictionary, coherence='c_v')\n",
        "coherence_score = coherence_model.get_coherence()\n",
        "print(\"Coherence Score:\", coherence_score)\n"
      ],
      "metadata": {
        "id": "IVyGSKX-sAbS"
      },
      "execution_count": null,
      "outputs": []
    }
  ]
}